{
 "cells": [
  {
   "cell_type": "markdown",
   "metadata": {},
   "source": [
    "The following notebook reads in ESC-50 meta data, splits into train and test sets and create melspectrograms for each audio file."
   ]
  },
  {
   "cell_type": "code",
   "execution_count": null,
   "metadata": {
    "collapsed": true
   },
   "outputs": [],
   "source": [
    "# load python libraries\n",
    "%matplotlib inline\n",
    "import numpy as np\n",
    "import pandas as pd\n",
    "import random\n",
    "from scipy.io import wavfile\n",
    "from sklearn.preprocessing import scale\n",
    "import librosa.display\n",
    "import librosa\n",
    "import matplotlib.pyplot as plt\n",
    "import os"
   ]
  },
  {
   "cell_type": "markdown",
   "metadata": {},
   "source": [
    "### Function Definitions"
   ]
  },
  {
   "cell_type": "code",
   "execution_count": null,
   "metadata": {
    "collapsed": true
   },
   "outputs": [],
   "source": [
    "def save_melspectrogram(directory_path, file_name, dataset_split, label, sampling_rate=44100):\n",
    "    \"\"\" Will save spectogram into current directory\"\"\"\n",
    "    \n",
    "    path_to_file = os.path.join(directory_path, file_name)\n",
    "    data, sr = librosa.load(path_to_file, sr=sampling_rate, mono=True)\n",
    "    data = scale(data)\n",
    "\n",
    "    melspec = librosa.feature.melspectrogram(y=data, sr=sr, n_mels=128)\n",
    "    # Convert to log scale (dB) using the peak power (max) as reference\n",
    "        # per suggestion from Librbosa: https://librosa.github.io/librosa/generated/librosa.feature.melspectrogram.html\n",
    "    log_melspec = librosa.power_to_db(melspec, ref=np.max)  \n",
    "    librosa.display.specshow(log_melspec, sr=sr)\n",
    "    \n",
    "    # create saving directory\n",
    "    directory = './melspectrograms/{dataset}/{label}'.format(dataset=dataset_split, label=label)\n",
    "    if not os.path.exists(directory):\n",
    "        os.makedirs(directory)\n",
    "    \n",
    "    plt.savefig(directory + '/' + file_name.strip('.wav') + '.png')\n",
    "    plt.clf()\n",
    "    plt.close('all')"
   ]
  },
  {
   "cell_type": "code",
   "execution_count": null,
   "metadata": {
    "collapsed": true
   },
   "outputs": [],
   "source": [
    "def _train_test_split(filenames, train_pct):\n",
    "    \"\"\"Create train and test splits for ESC-50 data\"\"\"\n",
    "    random.seed(2018)\n",
    "    n_files = len(filenames)\n",
    "    n_train = int(n_files*train_pct)\n",
    "    train = np.random.choice(n_files, n_train, replace=False)\n",
    "        \n",
    "    # split on training indices\n",
    "    training_idx = np.isin(range(n_files), train)\n",
    "    training_set = np.array(filenames)[training_idx]\n",
    "    testing_set = np.array(filenames)[~training_idx]\n",
    "    print('\\tfiles in training set: {}, files in testing set: {}'.format(len(training_set), len(testing_set)))\n",
    "    \n",
    "    return {'training': training_set, 'testing': testing_set}"
   ]
  },
  {
   "cell_type": "markdown",
   "metadata": {},
   "source": [
    "### Main Program"
   ]
  },
  {
   "cell_type": "markdown",
   "metadata": {},
   "source": [
    "#### Read in meta data"
   ]
  },
  {
   "cell_type": "code",
   "execution_count": null,
   "metadata": {},
   "outputs": [],
   "source": [
    "dataset_dir = './ESC-50-master'\n",
    "\n",
    "# Load meta data for audio files\n",
    "meta_data = pd.read_csv(dataset_dir + '/meta/esc50.csv')\n",
    "\n",
    "labs = meta_data.category\n",
    "unique_labels = labs.unique()\n",
    "meta_data.head()"
   ]
  },
  {
   "cell_type": "markdown",
   "metadata": {},
   "source": [
    "#### Extract Features"
   ]
  },
  {
   "cell_type": "code",
   "execution_count": null,
   "metadata": {
    "scrolled": false
   },
   "outputs": [],
   "source": [
    "for label in unique_labels:\n",
    "    print(\"Proccesing {} audio files\".format(label))\n",
    "    current_label_meta_data = meta_data[meta_data.category == label]\n",
    "    datasets = _train_test_split(current_label_meta_data.filename, train_pct=0.8)\n",
    "    for dataset_split, audio_files in datasets.items():\n",
    "        for filename in audio_files:\n",
    "            directory_path = dataset_dir + '/audio/'\n",
    "            save_melspectrogram(directory_path, filename, dataset_split, label, sampling_rate=44100)"
   ]
  }
 ],
 "metadata": {
  "kernelspec": {
   "display_name": "Python 3",
   "language": "python",
   "name": "python3"
  },
  "language_info": {
   "codemirror_mode": {
    "name": "ipython",
    "version": 3
   },
   "file_extension": ".py",
   "mimetype": "text/x-python",
   "name": "python",
   "nbconvert_exporter": "python",
   "pygments_lexer": "ipython3",
   "version": "3.10.12"
  }
 },
 "nbformat": 4,
 "nbformat_minor": 2
}
