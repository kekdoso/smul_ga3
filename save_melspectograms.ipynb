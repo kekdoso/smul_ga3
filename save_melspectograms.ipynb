{
 "cells": [
  {
   "cell_type": "markdown",
   "metadata": {},
   "source": [
    "The following notebook reads in ESC-50 meta data, splits into train and test sets and create melspectrograms for each audio file."
   ]
  },
  {
   "cell_type": "code",
   "execution_count": 2,
   "metadata": {
    "collapsed": true
   },
   "outputs": [],
   "source": [
    "# load python libraries\n",
    "%matplotlib inline\n",
    "import numpy as np\n",
    "import pandas as pd\n",
    "import random\n",
    "from scipy.io import wavfile\n",
    "from sklearn.preprocessing import scale\n",
    "import librosa.display\n",
    "import librosa\n",
    "import matplotlib.pyplot as plt\n",
    "import os"
   ]
  },
  {
   "cell_type": "markdown",
   "metadata": {},
   "source": [
    "### Function Definitions"
   ]
  },
  {
   "cell_type": "code",
   "execution_count": 3,
   "metadata": {
    "collapsed": true
   },
   "outputs": [],
   "source": [
    "def save_melspectrogram(directory_path, file_name, dataset_split, label, sampling_rate=44100):\n",
    "    \"\"\" Will save spectogram into current directory\"\"\"\n",
    "    \n",
    "    path_to_file = os.path.join(directory_path, file_name)\n",
    "    data, sr = librosa.load(path_to_file, sr=sampling_rate, mono=True)\n",
    "    data = scale(data)\n",
    "\n",
    "    melspec = librosa.feature.melspectrogram(y=data, sr=sr, n_mels=128)\n",
    "    # Convert to log scale (dB) using the peak power (max) as reference\n",
    "        # per suggestion from Librbosa: https://librosa.github.io/librosa/generated/librosa.feature.melspectrogram.html\n",
    "    log_melspec = librosa.power_to_db(melspec, ref=np.max)  \n",
    "    librosa.display.specshow(log_melspec, sr=sr)\n",
    "    \n",
    "    # create saving directory\n",
    "    directory = './melspectrograms/{dataset}/{label}'.format(dataset=dataset_split, label=label)\n",
    "    if not os.path.exists(directory):\n",
    "        os.makedirs(directory)\n",
    "    \n",
    "    plt.savefig(directory + '/' + file_name.strip('.wav') + '.png')\n",
    "    plt.clf()\n",
    "    plt.close('all')"
   ]
  },
  {
   "cell_type": "code",
   "execution_count": 4,
   "metadata": {
    "collapsed": true
   },
   "outputs": [],
   "source": [
    "def _train_test_split(filenames, train_pct):\n",
    "    \"\"\"Create train and test splits for ESC-50 data\"\"\"\n",
    "    random.seed(2018)\n",
    "    n_files = len(filenames)\n",
    "    n_train = int(n_files*train_pct)\n",
    "    train = np.random.choice(n_files, n_train, replace=False)\n",
    "        \n",
    "    # split on training indices\n",
    "    training_idx = np.isin(range(n_files), train)\n",
    "    training_set = np.array(filenames)[training_idx]\n",
    "    testing_set = np.array(filenames)[~training_idx]\n",
    "    print('\\tfiles in training set: {}, files in testing set: {}'.format(len(training_set), len(testing_set)))\n",
    "    \n",
    "    return {'training': training_set, 'testing': testing_set}"
   ]
  },
  {
   "cell_type": "markdown",
   "metadata": {},
   "source": [
    "### Main Program"
   ]
  },
  {
   "cell_type": "markdown",
   "metadata": {},
   "source": [
    "#### Read in meta data"
   ]
  },
  {
   "cell_type": "code",
   "execution_count": 5,
   "metadata": {},
   "outputs": [
    {
     "data": {
      "text/html": [
       "<div>\n",
       "<style scoped>\n",
       "    .dataframe tbody tr th:only-of-type {\n",
       "        vertical-align: middle;\n",
       "    }\n",
       "\n",
       "    .dataframe tbody tr th {\n",
       "        vertical-align: top;\n",
       "    }\n",
       "\n",
       "    .dataframe thead th {\n",
       "        text-align: right;\n",
       "    }\n",
       "</style>\n",
       "<table border=\"1\" class=\"dataframe\">\n",
       "  <thead>\n",
       "    <tr style=\"text-align: right;\">\n",
       "      <th></th>\n",
       "      <th>filename</th>\n",
       "      <th>fold</th>\n",
       "      <th>target</th>\n",
       "      <th>category</th>\n",
       "      <th>esc10</th>\n",
       "      <th>src_file</th>\n",
       "      <th>take</th>\n",
       "    </tr>\n",
       "  </thead>\n",
       "  <tbody>\n",
       "    <tr>\n",
       "      <th>0</th>\n",
       "      <td>1-100032-A-0.wav</td>\n",
       "      <td>1</td>\n",
       "      <td>0</td>\n",
       "      <td>dog</td>\n",
       "      <td>True</td>\n",
       "      <td>100032</td>\n",
       "      <td>A</td>\n",
       "    </tr>\n",
       "    <tr>\n",
       "      <th>1</th>\n",
       "      <td>1-100038-A-14.wav</td>\n",
       "      <td>1</td>\n",
       "      <td>14</td>\n",
       "      <td>chirping_birds</td>\n",
       "      <td>False</td>\n",
       "      <td>100038</td>\n",
       "      <td>A</td>\n",
       "    </tr>\n",
       "    <tr>\n",
       "      <th>2</th>\n",
       "      <td>1-100210-A-36.wav</td>\n",
       "      <td>1</td>\n",
       "      <td>36</td>\n",
       "      <td>vacuum_cleaner</td>\n",
       "      <td>False</td>\n",
       "      <td>100210</td>\n",
       "      <td>A</td>\n",
       "    </tr>\n",
       "    <tr>\n",
       "      <th>3</th>\n",
       "      <td>1-100210-B-36.wav</td>\n",
       "      <td>1</td>\n",
       "      <td>36</td>\n",
       "      <td>vacuum_cleaner</td>\n",
       "      <td>False</td>\n",
       "      <td>100210</td>\n",
       "      <td>B</td>\n",
       "    </tr>\n",
       "    <tr>\n",
       "      <th>4</th>\n",
       "      <td>1-101296-A-19.wav</td>\n",
       "      <td>1</td>\n",
       "      <td>19</td>\n",
       "      <td>thunderstorm</td>\n",
       "      <td>False</td>\n",
       "      <td>101296</td>\n",
       "      <td>A</td>\n",
       "    </tr>\n",
       "  </tbody>\n",
       "</table>\n",
       "</div>"
      ],
      "text/plain": [
       "            filename  fold  target        category  esc10  src_file take\n",
       "0   1-100032-A-0.wav     1       0             dog   True    100032    A\n",
       "1  1-100038-A-14.wav     1      14  chirping_birds  False    100038    A\n",
       "2  1-100210-A-36.wav     1      36  vacuum_cleaner  False    100210    A\n",
       "3  1-100210-B-36.wav     1      36  vacuum_cleaner  False    100210    B\n",
       "4  1-101296-A-19.wav     1      19    thunderstorm  False    101296    A"
      ]
     },
     "execution_count": 5,
     "metadata": {},
     "output_type": "execute_result"
    }
   ],
   "source": [
    "dataset_dir = './ESC-50-master'\n",
    "\n",
    "# Load meta data for audio files\n",
    "meta_data = pd.read_csv(dataset_dir + '/meta/esc50.csv')\n",
    "\n",
    "labs = meta_data.category\n",
    "unique_labels = labs.unique()\n",
    "meta_data.head()"
   ]
  },
  {
   "cell_type": "markdown",
   "metadata": {},
   "source": [
    "#### Extract Features"
   ]
  },
  {
   "cell_type": "code",
   "execution_count": 6,
   "metadata": {
    "scrolled": false
   },
   "outputs": [
    {
     "name": "stdout",
     "output_type": "stream",
     "text": [
      "Proccesing dog audio files\n",
      "\tfiles in training set: 32, files in testing set: 8\n",
      "Proccesing chirping_birds audio files\n",
      "\tfiles in training set: 32, files in testing set: 8\n"
     ]
    },
    {
     "name": "stderr",
     "output_type": "stream",
     "text": [
      "c:\\Users\\gonca\\miniconda3\\Lib\\site-packages\\sklearn\\preprocessing\\_data.py:280: UserWarning: Numerical issues were encountered when scaling the data and might not be solved. The standard deviation of the data is probably very close to 0. \n",
      "  warnings.warn(\n",
      "c:\\Users\\gonca\\miniconda3\\Lib\\site-packages\\sklearn\\preprocessing\\_data.py:280: UserWarning: Numerical issues were encountered when scaling the data and might not be solved. The standard deviation of the data is probably very close to 0. \n",
      "  warnings.warn(\n",
      "c:\\Users\\gonca\\miniconda3\\Lib\\site-packages\\sklearn\\preprocessing\\_data.py:280: UserWarning: Numerical issues were encountered when scaling the data and might not be solved. The standard deviation of the data is probably very close to 0. \n",
      "  warnings.warn(\n",
      "c:\\Users\\gonca\\miniconda3\\Lib\\site-packages\\sklearn\\preprocessing\\_data.py:280: UserWarning: Numerical issues were encountered when scaling the data and might not be solved. The standard deviation of the data is probably very close to 0. \n",
      "  warnings.warn(\n",
      "c:\\Users\\gonca\\miniconda3\\Lib\\site-packages\\sklearn\\preprocessing\\_data.py:280: UserWarning: Numerical issues were encountered when scaling the data and might not be solved. The standard deviation of the data is probably very close to 0. \n",
      "  warnings.warn(\n"
     ]
    },
    {
     "name": "stdout",
     "output_type": "stream",
     "text": [
      "Proccesing vacuum_cleaner audio files\n",
      "\tfiles in training set: 32, files in testing set: 8\n"
     ]
    },
    {
     "name": "stderr",
     "output_type": "stream",
     "text": [
      "c:\\Users\\gonca\\miniconda3\\Lib\\site-packages\\sklearn\\preprocessing\\_data.py:280: UserWarning: Numerical issues were encountered when scaling the data and might not be solved. The standard deviation of the data is probably very close to 0. \n",
      "  warnings.warn(\n",
      "c:\\Users\\gonca\\miniconda3\\Lib\\site-packages\\sklearn\\preprocessing\\_data.py:280: UserWarning: Numerical issues were encountered when scaling the data and might not be solved. The standard deviation of the data is probably very close to 0. \n",
      "  warnings.warn(\n",
      "c:\\Users\\gonca\\miniconda3\\Lib\\site-packages\\sklearn\\preprocessing\\_data.py:261: UserWarning: Numerical issues were encountered when centering the data and might not be solved. Dataset may contain too large values. You may need to prescale your features.\n",
      "  warnings.warn(\n",
      "c:\\Users\\gonca\\miniconda3\\Lib\\site-packages\\sklearn\\preprocessing\\_data.py:280: UserWarning: Numerical issues were encountered when scaling the data and might not be solved. The standard deviation of the data is probably very close to 0. \n",
      "  warnings.warn(\n",
      "c:\\Users\\gonca\\miniconda3\\Lib\\site-packages\\sklearn\\preprocessing\\_data.py:280: UserWarning: Numerical issues were encountered when scaling the data and might not be solved. The standard deviation of the data is probably very close to 0. \n",
      "  warnings.warn(\n",
      "c:\\Users\\gonca\\miniconda3\\Lib\\site-packages\\sklearn\\preprocessing\\_data.py:280: UserWarning: Numerical issues were encountered when scaling the data and might not be solved. The standard deviation of the data is probably very close to 0. \n",
      "  warnings.warn(\n",
      "c:\\Users\\gonca\\miniconda3\\Lib\\site-packages\\sklearn\\preprocessing\\_data.py:280: UserWarning: Numerical issues were encountered when scaling the data and might not be solved. The standard deviation of the data is probably very close to 0. \n",
      "  warnings.warn(\n",
      "c:\\Users\\gonca\\miniconda3\\Lib\\site-packages\\sklearn\\preprocessing\\_data.py:280: UserWarning: Numerical issues were encountered when scaling the data and might not be solved. The standard deviation of the data is probably very close to 0. \n",
      "  warnings.warn(\n",
      "c:\\Users\\gonca\\miniconda3\\Lib\\site-packages\\sklearn\\preprocessing\\_data.py:261: UserWarning: Numerical issues were encountered when centering the data and might not be solved. Dataset may contain too large values. You may need to prescale your features.\n",
      "  warnings.warn(\n",
      "c:\\Users\\gonca\\miniconda3\\Lib\\site-packages\\sklearn\\preprocessing\\_data.py:280: UserWarning: Numerical issues were encountered when scaling the data and might not be solved. The standard deviation of the data is probably very close to 0. \n",
      "  warnings.warn(\n",
      "c:\\Users\\gonca\\miniconda3\\Lib\\site-packages\\sklearn\\preprocessing\\_data.py:261: UserWarning: Numerical issues were encountered when centering the data and might not be solved. Dataset may contain too large values. You may need to prescale your features.\n",
      "  warnings.warn(\n",
      "c:\\Users\\gonca\\miniconda3\\Lib\\site-packages\\sklearn\\preprocessing\\_data.py:280: UserWarning: Numerical issues were encountered when scaling the data and might not be solved. The standard deviation of the data is probably very close to 0. \n",
      "  warnings.warn(\n",
      "c:\\Users\\gonca\\miniconda3\\Lib\\site-packages\\sklearn\\preprocessing\\_data.py:280: UserWarning: Numerical issues were encountered when scaling the data and might not be solved. The standard deviation of the data is probably very close to 0. \n",
      "  warnings.warn(\n",
      "c:\\Users\\gonca\\miniconda3\\Lib\\site-packages\\sklearn\\preprocessing\\_data.py:261: UserWarning: Numerical issues were encountered when centering the data and might not be solved. Dataset may contain too large values. You may need to prescale your features.\n",
      "  warnings.warn(\n",
      "c:\\Users\\gonca\\miniconda3\\Lib\\site-packages\\sklearn\\preprocessing\\_data.py:280: UserWarning: Numerical issues were encountered when scaling the data and might not be solved. The standard deviation of the data is probably very close to 0. \n",
      "  warnings.warn(\n",
      "c:\\Users\\gonca\\miniconda3\\Lib\\site-packages\\sklearn\\preprocessing\\_data.py:280: UserWarning: Numerical issues were encountered when scaling the data and might not be solved. The standard deviation of the data is probably very close to 0. \n",
      "  warnings.warn(\n",
      "c:\\Users\\gonca\\miniconda3\\Lib\\site-packages\\sklearn\\preprocessing\\_data.py:280: UserWarning: Numerical issues were encountered when scaling the data and might not be solved. The standard deviation of the data is probably very close to 0. \n",
      "  warnings.warn(\n",
      "c:\\Users\\gonca\\miniconda3\\Lib\\site-packages\\sklearn\\preprocessing\\_data.py:280: UserWarning: Numerical issues were encountered when scaling the data and might not be solved. The standard deviation of the data is probably very close to 0. \n",
      "  warnings.warn(\n",
      "c:\\Users\\gonca\\miniconda3\\Lib\\site-packages\\sklearn\\preprocessing\\_data.py:280: UserWarning: Numerical issues were encountered when scaling the data and might not be solved. The standard deviation of the data is probably very close to 0. \n",
      "  warnings.warn(\n"
     ]
    },
    {
     "name": "stdout",
     "output_type": "stream",
     "text": [
      "Proccesing thunderstorm audio files\n",
      "\tfiles in training set: 32, files in testing set: 8\n"
     ]
    },
    {
     "name": "stderr",
     "output_type": "stream",
     "text": [
      "c:\\Users\\gonca\\miniconda3\\Lib\\site-packages\\sklearn\\preprocessing\\_data.py:280: UserWarning: Numerical issues were encountered when scaling the data and might not be solved. The standard deviation of the data is probably very close to 0. \n",
      "  warnings.warn(\n",
      "c:\\Users\\gonca\\miniconda3\\Lib\\site-packages\\sklearn\\preprocessing\\_data.py:280: UserWarning: Numerical issues were encountered when scaling the data and might not be solved. The standard deviation of the data is probably very close to 0. \n",
      "  warnings.warn(\n",
      "c:\\Users\\gonca\\miniconda3\\Lib\\site-packages\\sklearn\\preprocessing\\_data.py:261: UserWarning: Numerical issues were encountered when centering the data and might not be solved. Dataset may contain too large values. You may need to prescale your features.\n",
      "  warnings.warn(\n",
      "c:\\Users\\gonca\\miniconda3\\Lib\\site-packages\\sklearn\\preprocessing\\_data.py:280: UserWarning: Numerical issues were encountered when scaling the data and might not be solved. The standard deviation of the data is probably very close to 0. \n",
      "  warnings.warn(\n",
      "c:\\Users\\gonca\\miniconda3\\Lib\\site-packages\\sklearn\\preprocessing\\_data.py:261: UserWarning: Numerical issues were encountered when centering the data and might not be solved. Dataset may contain too large values. You may need to prescale your features.\n",
      "  warnings.warn(\n",
      "c:\\Users\\gonca\\miniconda3\\Lib\\site-packages\\sklearn\\preprocessing\\_data.py:280: UserWarning: Numerical issues were encountered when scaling the data and might not be solved. The standard deviation of the data is probably very close to 0. \n",
      "  warnings.warn(\n",
      "c:\\Users\\gonca\\miniconda3\\Lib\\site-packages\\sklearn\\preprocessing\\_data.py:280: UserWarning: Numerical issues were encountered when scaling the data and might not be solved. The standard deviation of the data is probably very close to 0. \n",
      "  warnings.warn(\n",
      "c:\\Users\\gonca\\miniconda3\\Lib\\site-packages\\sklearn\\preprocessing\\_data.py:280: UserWarning: Numerical issues were encountered when scaling the data and might not be solved. The standard deviation of the data is probably very close to 0. \n",
      "  warnings.warn(\n",
      "c:\\Users\\gonca\\miniconda3\\Lib\\site-packages\\sklearn\\preprocessing\\_data.py:261: UserWarning: Numerical issues were encountered when centering the data and might not be solved. Dataset may contain too large values. You may need to prescale your features.\n",
      "  warnings.warn(\n",
      "c:\\Users\\gonca\\miniconda3\\Lib\\site-packages\\sklearn\\preprocessing\\_data.py:280: UserWarning: Numerical issues were encountered when scaling the data and might not be solved. The standard deviation of the data is probably very close to 0. \n",
      "  warnings.warn(\n"
     ]
    },
    {
     "name": "stdout",
     "output_type": "stream",
     "text": [
      "Proccesing door_wood_knock audio files\n",
      "\tfiles in training set: 32, files in testing set: 8\n"
     ]
    },
    {
     "name": "stderr",
     "output_type": "stream",
     "text": [
      "c:\\Users\\gonca\\miniconda3\\Lib\\site-packages\\sklearn\\preprocessing\\_data.py:280: UserWarning: Numerical issues were encountered when scaling the data and might not be solved. The standard deviation of the data is probably very close to 0. \n",
      "  warnings.warn(\n"
     ]
    },
    {
     "name": "stdout",
     "output_type": "stream",
     "text": [
      "Proccesing can_opening audio files\n",
      "\tfiles in training set: 32, files in testing set: 8\n"
     ]
    },
    {
     "name": "stderr",
     "output_type": "stream",
     "text": [
      "c:\\Users\\gonca\\miniconda3\\Lib\\site-packages\\sklearn\\preprocessing\\_data.py:280: UserWarning: Numerical issues were encountered when scaling the data and might not be solved. The standard deviation of the data is probably very close to 0. \n",
      "  warnings.warn(\n"
     ]
    },
    {
     "name": "stdout",
     "output_type": "stream",
     "text": [
      "Proccesing crow audio files\n",
      "\tfiles in training set: 32, files in testing set: 8\n"
     ]
    },
    {
     "name": "stderr",
     "output_type": "stream",
     "text": [
      "c:\\Users\\gonca\\miniconda3\\Lib\\site-packages\\sklearn\\preprocessing\\_data.py:280: UserWarning: Numerical issues were encountered when scaling the data and might not be solved. The standard deviation of the data is probably very close to 0. \n",
      "  warnings.warn(\n",
      "c:\\Users\\gonca\\miniconda3\\Lib\\site-packages\\sklearn\\preprocessing\\_data.py:261: UserWarning: Numerical issues were encountered when centering the data and might not be solved. Dataset may contain too large values. You may need to prescale your features.\n",
      "  warnings.warn(\n",
      "c:\\Users\\gonca\\miniconda3\\Lib\\site-packages\\sklearn\\preprocessing\\_data.py:280: UserWarning: Numerical issues were encountered when scaling the data and might not be solved. The standard deviation of the data is probably very close to 0. \n",
      "  warnings.warn(\n",
      "c:\\Users\\gonca\\miniconda3\\Lib\\site-packages\\sklearn\\preprocessing\\_data.py:280: UserWarning: Numerical issues were encountered when scaling the data and might not be solved. The standard deviation of the data is probably very close to 0. \n",
      "  warnings.warn(\n"
     ]
    },
    {
     "name": "stdout",
     "output_type": "stream",
     "text": [
      "Proccesing clapping audio files\n",
      "\tfiles in training set: 32, files in testing set: 8\n"
     ]
    },
    {
     "name": "stderr",
     "output_type": "stream",
     "text": [
      "c:\\Users\\gonca\\miniconda3\\Lib\\site-packages\\sklearn\\preprocessing\\_data.py:280: UserWarning: Numerical issues were encountered when scaling the data and might not be solved. The standard deviation of the data is probably very close to 0. \n",
      "  warnings.warn(\n",
      "c:\\Users\\gonca\\miniconda3\\Lib\\site-packages\\sklearn\\preprocessing\\_data.py:280: UserWarning: Numerical issues were encountered when scaling the data and might not be solved. The standard deviation of the data is probably very close to 0. \n",
      "  warnings.warn(\n",
      "c:\\Users\\gonca\\miniconda3\\Lib\\site-packages\\sklearn\\preprocessing\\_data.py:280: UserWarning: Numerical issues were encountered when scaling the data and might not be solved. The standard deviation of the data is probably very close to 0. \n",
      "  warnings.warn(\n"
     ]
    },
    {
     "name": "stdout",
     "output_type": "stream",
     "text": [
      "Proccesing fireworks audio files\n",
      "\tfiles in training set: 32, files in testing set: 8\n",
      "Proccesing chainsaw audio files\n",
      "\tfiles in training set: 32, files in testing set: 8\n"
     ]
    },
    {
     "name": "stderr",
     "output_type": "stream",
     "text": [
      "c:\\Users\\gonca\\miniconda3\\Lib\\site-packages\\sklearn\\preprocessing\\_data.py:261: UserWarning: Numerical issues were encountered when centering the data and might not be solved. Dataset may contain too large values. You may need to prescale your features.\n",
      "  warnings.warn(\n",
      "c:\\Users\\gonca\\miniconda3\\Lib\\site-packages\\sklearn\\preprocessing\\_data.py:280: UserWarning: Numerical issues were encountered when scaling the data and might not be solved. The standard deviation of the data is probably very close to 0. \n",
      "  warnings.warn(\n",
      "c:\\Users\\gonca\\miniconda3\\Lib\\site-packages\\sklearn\\preprocessing\\_data.py:280: UserWarning: Numerical issues were encountered when scaling the data and might not be solved. The standard deviation of the data is probably very close to 0. \n",
      "  warnings.warn(\n",
      "c:\\Users\\gonca\\miniconda3\\Lib\\site-packages\\sklearn\\preprocessing\\_data.py:261: UserWarning: Numerical issues were encountered when centering the data and might not be solved. Dataset may contain too large values. You may need to prescale your features.\n",
      "  warnings.warn(\n",
      "c:\\Users\\gonca\\miniconda3\\Lib\\site-packages\\sklearn\\preprocessing\\_data.py:280: UserWarning: Numerical issues were encountered when scaling the data and might not be solved. The standard deviation of the data is probably very close to 0. \n",
      "  warnings.warn(\n",
      "c:\\Users\\gonca\\miniconda3\\Lib\\site-packages\\sklearn\\preprocessing\\_data.py:280: UserWarning: Numerical issues were encountered when scaling the data and might not be solved. The standard deviation of the data is probably very close to 0. \n",
      "  warnings.warn(\n",
      "c:\\Users\\gonca\\miniconda3\\Lib\\site-packages\\sklearn\\preprocessing\\_data.py:280: UserWarning: Numerical issues were encountered when scaling the data and might not be solved. The standard deviation of the data is probably very close to 0. \n",
      "  warnings.warn(\n",
      "c:\\Users\\gonca\\miniconda3\\Lib\\site-packages\\sklearn\\preprocessing\\_data.py:261: UserWarning: Numerical issues were encountered when centering the data and might not be solved. Dataset may contain too large values. You may need to prescale your features.\n",
      "  warnings.warn(\n",
      "c:\\Users\\gonca\\miniconda3\\Lib\\site-packages\\sklearn\\preprocessing\\_data.py:280: UserWarning: Numerical issues were encountered when scaling the data and might not be solved. The standard deviation of the data is probably very close to 0. \n",
      "  warnings.warn(\n",
      "c:\\Users\\gonca\\miniconda3\\Lib\\site-packages\\sklearn\\preprocessing\\_data.py:280: UserWarning: Numerical issues were encountered when scaling the data and might not be solved. The standard deviation of the data is probably very close to 0. \n",
      "  warnings.warn(\n",
      "c:\\Users\\gonca\\miniconda3\\Lib\\site-packages\\sklearn\\preprocessing\\_data.py:280: UserWarning: Numerical issues were encountered when scaling the data and might not be solved. The standard deviation of the data is probably very close to 0. \n",
      "  warnings.warn(\n",
      "c:\\Users\\gonca\\miniconda3\\Lib\\site-packages\\sklearn\\preprocessing\\_data.py:261: UserWarning: Numerical issues were encountered when centering the data and might not be solved. Dataset may contain too large values. You may need to prescale your features.\n",
      "  warnings.warn(\n",
      "c:\\Users\\gonca\\miniconda3\\Lib\\site-packages\\sklearn\\preprocessing\\_data.py:280: UserWarning: Numerical issues were encountered when scaling the data and might not be solved. The standard deviation of the data is probably very close to 0. \n",
      "  warnings.warn(\n",
      "c:\\Users\\gonca\\miniconda3\\Lib\\site-packages\\sklearn\\preprocessing\\_data.py:280: UserWarning: Numerical issues were encountered when scaling the data and might not be solved. The standard deviation of the data is probably very close to 0. \n",
      "  warnings.warn(\n"
     ]
    },
    {
     "name": "stdout",
     "output_type": "stream",
     "text": [
      "Proccesing airplane audio files\n",
      "\tfiles in training set: 32, files in testing set: 8\n"
     ]
    },
    {
     "name": "stderr",
     "output_type": "stream",
     "text": [
      "c:\\Users\\gonca\\miniconda3\\Lib\\site-packages\\sklearn\\preprocessing\\_data.py:280: UserWarning: Numerical issues were encountered when scaling the data and might not be solved. The standard deviation of the data is probably very close to 0. \n",
      "  warnings.warn(\n",
      "c:\\Users\\gonca\\miniconda3\\Lib\\site-packages\\sklearn\\preprocessing\\_data.py:261: UserWarning: Numerical issues were encountered when centering the data and might not be solved. Dataset may contain too large values. You may need to prescale your features.\n",
      "  warnings.warn(\n",
      "c:\\Users\\gonca\\miniconda3\\Lib\\site-packages\\sklearn\\preprocessing\\_data.py:280: UserWarning: Numerical issues were encountered when scaling the data and might not be solved. The standard deviation of the data is probably very close to 0. \n",
      "  warnings.warn(\n",
      "c:\\Users\\gonca\\miniconda3\\Lib\\site-packages\\sklearn\\preprocessing\\_data.py:280: UserWarning: Numerical issues were encountered when scaling the data and might not be solved. The standard deviation of the data is probably very close to 0. \n",
      "  warnings.warn(\n",
      "c:\\Users\\gonca\\miniconda3\\Lib\\site-packages\\sklearn\\preprocessing\\_data.py:261: UserWarning: Numerical issues were encountered when centering the data and might not be solved. Dataset may contain too large values. You may need to prescale your features.\n",
      "  warnings.warn(\n",
      "c:\\Users\\gonca\\miniconda3\\Lib\\site-packages\\sklearn\\preprocessing\\_data.py:280: UserWarning: Numerical issues were encountered when scaling the data and might not be solved. The standard deviation of the data is probably very close to 0. \n",
      "  warnings.warn(\n",
      "c:\\Users\\gonca\\miniconda3\\Lib\\site-packages\\sklearn\\preprocessing\\_data.py:261: UserWarning: Numerical issues were encountered when centering the data and might not be solved. Dataset may contain too large values. You may need to prescale your features.\n",
      "  warnings.warn(\n",
      "c:\\Users\\gonca\\miniconda3\\Lib\\site-packages\\sklearn\\preprocessing\\_data.py:280: UserWarning: Numerical issues were encountered when scaling the data and might not be solved. The standard deviation of the data is probably very close to 0. \n",
      "  warnings.warn(\n",
      "c:\\Users\\gonca\\miniconda3\\Lib\\site-packages\\sklearn\\preprocessing\\_data.py:280: UserWarning: Numerical issues were encountered when scaling the data and might not be solved. The standard deviation of the data is probably very close to 0. \n",
      "  warnings.warn(\n",
      "c:\\Users\\gonca\\miniconda3\\Lib\\site-packages\\sklearn\\preprocessing\\_data.py:261: UserWarning: Numerical issues were encountered when centering the data and might not be solved. Dataset may contain too large values. You may need to prescale your features.\n",
      "  warnings.warn(\n",
      "c:\\Users\\gonca\\miniconda3\\Lib\\site-packages\\sklearn\\preprocessing\\_data.py:280: UserWarning: Numerical issues were encountered when scaling the data and might not be solved. The standard deviation of the data is probably very close to 0. \n",
      "  warnings.warn(\n",
      "c:\\Users\\gonca\\miniconda3\\Lib\\site-packages\\sklearn\\preprocessing\\_data.py:280: UserWarning: Numerical issues were encountered when scaling the data and might not be solved. The standard deviation of the data is probably very close to 0. \n",
      "  warnings.warn(\n",
      "c:\\Users\\gonca\\miniconda3\\Lib\\site-packages\\sklearn\\preprocessing\\_data.py:280: UserWarning: Numerical issues were encountered when scaling the data and might not be solved. The standard deviation of the data is probably very close to 0. \n",
      "  warnings.warn(\n",
      "c:\\Users\\gonca\\miniconda3\\Lib\\site-packages\\sklearn\\preprocessing\\_data.py:280: UserWarning: Numerical issues were encountered when scaling the data and might not be solved. The standard deviation of the data is probably very close to 0. \n",
      "  warnings.warn(\n",
      "c:\\Users\\gonca\\miniconda3\\Lib\\site-packages\\sklearn\\preprocessing\\_data.py:280: UserWarning: Numerical issues were encountered when scaling the data and might not be solved. The standard deviation of the data is probably very close to 0. \n",
      "  warnings.warn(\n"
     ]
    },
    {
     "name": "stdout",
     "output_type": "stream",
     "text": [
      "Proccesing mouse_click audio files\n",
      "\tfiles in training set: 32, files in testing set: 8\n"
     ]
    },
    {
     "name": "stderr",
     "output_type": "stream",
     "text": [
      "c:\\Users\\gonca\\miniconda3\\Lib\\site-packages\\sklearn\\preprocessing\\_data.py:280: UserWarning: Numerical issues were encountered when scaling the data and might not be solved. The standard deviation of the data is probably very close to 0. \n",
      "  warnings.warn(\n",
      "c:\\Users\\gonca\\miniconda3\\Lib\\site-packages\\sklearn\\preprocessing\\_data.py:280: UserWarning: Numerical issues were encountered when scaling the data and might not be solved. The standard deviation of the data is probably very close to 0. \n",
      "  warnings.warn(\n",
      "c:\\Users\\gonca\\miniconda3\\Lib\\site-packages\\sklearn\\preprocessing\\_data.py:280: UserWarning: Numerical issues were encountered when scaling the data and might not be solved. The standard deviation of the data is probably very close to 0. \n",
      "  warnings.warn(\n"
     ]
    },
    {
     "name": "stdout",
     "output_type": "stream",
     "text": [
      "Proccesing pouring_water audio files\n",
      "\tfiles in training set: 32, files in testing set: 8\n"
     ]
    },
    {
     "name": "stderr",
     "output_type": "stream",
     "text": [
      "c:\\Users\\gonca\\miniconda3\\Lib\\site-packages\\sklearn\\preprocessing\\_data.py:280: UserWarning: Numerical issues were encountered when scaling the data and might not be solved. The standard deviation of the data is probably very close to 0. \n",
      "  warnings.warn(\n",
      "c:\\Users\\gonca\\miniconda3\\Lib\\site-packages\\sklearn\\preprocessing\\_data.py:280: UserWarning: Numerical issues were encountered when scaling the data and might not be solved. The standard deviation of the data is probably very close to 0. \n",
      "  warnings.warn(\n"
     ]
    },
    {
     "name": "stdout",
     "output_type": "stream",
     "text": [
      "Proccesing train audio files\n",
      "\tfiles in training set: 32, files in testing set: 8\n"
     ]
    },
    {
     "name": "stderr",
     "output_type": "stream",
     "text": [
      "c:\\Users\\gonca\\miniconda3\\Lib\\site-packages\\sklearn\\preprocessing\\_data.py:280: UserWarning: Numerical issues were encountered when scaling the data and might not be solved. The standard deviation of the data is probably very close to 0. \n",
      "  warnings.warn(\n",
      "c:\\Users\\gonca\\miniconda3\\Lib\\site-packages\\sklearn\\preprocessing\\_data.py:280: UserWarning: Numerical issues were encountered when scaling the data and might not be solved. The standard deviation of the data is probably very close to 0. \n",
      "  warnings.warn(\n",
      "c:\\Users\\gonca\\miniconda3\\Lib\\site-packages\\sklearn\\preprocessing\\_data.py:261: UserWarning: Numerical issues were encountered when centering the data and might not be solved. Dataset may contain too large values. You may need to prescale your features.\n",
      "  warnings.warn(\n",
      "c:\\Users\\gonca\\miniconda3\\Lib\\site-packages\\sklearn\\preprocessing\\_data.py:280: UserWarning: Numerical issues were encountered when scaling the data and might not be solved. The standard deviation of the data is probably very close to 0. \n",
      "  warnings.warn(\n",
      "c:\\Users\\gonca\\miniconda3\\Lib\\site-packages\\sklearn\\preprocessing\\_data.py:280: UserWarning: Numerical issues were encountered when scaling the data and might not be solved. The standard deviation of the data is probably very close to 0. \n",
      "  warnings.warn(\n",
      "c:\\Users\\gonca\\miniconda3\\Lib\\site-packages\\sklearn\\preprocessing\\_data.py:261: UserWarning: Numerical issues were encountered when centering the data and might not be solved. Dataset may contain too large values. You may need to prescale your features.\n",
      "  warnings.warn(\n",
      "c:\\Users\\gonca\\miniconda3\\Lib\\site-packages\\sklearn\\preprocessing\\_data.py:280: UserWarning: Numerical issues were encountered when scaling the data and might not be solved. The standard deviation of the data is probably very close to 0. \n",
      "  warnings.warn(\n",
      "c:\\Users\\gonca\\miniconda3\\Lib\\site-packages\\sklearn\\preprocessing\\_data.py:280: UserWarning: Numerical issues were encountered when scaling the data and might not be solved. The standard deviation of the data is probably very close to 0. \n",
      "  warnings.warn(\n",
      "c:\\Users\\gonca\\miniconda3\\Lib\\site-packages\\sklearn\\preprocessing\\_data.py:280: UserWarning: Numerical issues were encountered when scaling the data and might not be solved. The standard deviation of the data is probably very close to 0. \n",
      "  warnings.warn(\n",
      "c:\\Users\\gonca\\miniconda3\\Lib\\site-packages\\sklearn\\preprocessing\\_data.py:280: UserWarning: Numerical issues were encountered when scaling the data and might not be solved. The standard deviation of the data is probably very close to 0. \n",
      "  warnings.warn(\n"
     ]
    },
    {
     "name": "stdout",
     "output_type": "stream",
     "text": [
      "Proccesing sheep audio files\n",
      "\tfiles in training set: 32, files in testing set: 8\n"
     ]
    },
    {
     "name": "stderr",
     "output_type": "stream",
     "text": [
      "c:\\Users\\gonca\\miniconda3\\Lib\\site-packages\\sklearn\\preprocessing\\_data.py:280: UserWarning: Numerical issues were encountered when scaling the data and might not be solved. The standard deviation of the data is probably very close to 0. \n",
      "  warnings.warn(\n",
      "c:\\Users\\gonca\\miniconda3\\Lib\\site-packages\\sklearn\\preprocessing\\_data.py:280: UserWarning: Numerical issues were encountered when scaling the data and might not be solved. The standard deviation of the data is probably very close to 0. \n",
      "  warnings.warn(\n"
     ]
    },
    {
     "name": "stdout",
     "output_type": "stream",
     "text": [
      "Proccesing water_drops audio files\n",
      "\tfiles in training set: 32, files in testing set: 8\n"
     ]
    },
    {
     "name": "stderr",
     "output_type": "stream",
     "text": [
      "c:\\Users\\gonca\\miniconda3\\Lib\\site-packages\\sklearn\\preprocessing\\_data.py:280: UserWarning: Numerical issues were encountered when scaling the data and might not be solved. The standard deviation of the data is probably very close to 0. \n",
      "  warnings.warn(\n"
     ]
    },
    {
     "name": "stdout",
     "output_type": "stream",
     "text": [
      "Proccesing church_bells audio files\n",
      "\tfiles in training set: 32, files in testing set: 8\n"
     ]
    },
    {
     "name": "stderr",
     "output_type": "stream",
     "text": [
      "c:\\Users\\gonca\\miniconda3\\Lib\\site-packages\\sklearn\\preprocessing\\_data.py:280: UserWarning: Numerical issues were encountered when scaling the data and might not be solved. The standard deviation of the data is probably very close to 0. \n",
      "  warnings.warn(\n",
      "c:\\Users\\gonca\\miniconda3\\Lib\\site-packages\\sklearn\\preprocessing\\_data.py:280: UserWarning: Numerical issues were encountered when scaling the data and might not be solved. The standard deviation of the data is probably very close to 0. \n",
      "  warnings.warn(\n",
      "c:\\Users\\gonca\\miniconda3\\Lib\\site-packages\\sklearn\\preprocessing\\_data.py:261: UserWarning: Numerical issues were encountered when centering the data and might not be solved. Dataset may contain too large values. You may need to prescale your features.\n",
      "  warnings.warn(\n",
      "c:\\Users\\gonca\\miniconda3\\Lib\\site-packages\\sklearn\\preprocessing\\_data.py:280: UserWarning: Numerical issues were encountered when scaling the data and might not be solved. The standard deviation of the data is probably very close to 0. \n",
      "  warnings.warn(\n",
      "c:\\Users\\gonca\\miniconda3\\Lib\\site-packages\\sklearn\\preprocessing\\_data.py:280: UserWarning: Numerical issues were encountered when scaling the data and might not be solved. The standard deviation of the data is probably very close to 0. \n",
      "  warnings.warn(\n",
      "c:\\Users\\gonca\\miniconda3\\Lib\\site-packages\\sklearn\\preprocessing\\_data.py:280: UserWarning: Numerical issues were encountered when scaling the data and might not be solved. The standard deviation of the data is probably very close to 0. \n",
      "  warnings.warn(\n",
      "c:\\Users\\gonca\\miniconda3\\Lib\\site-packages\\sklearn\\preprocessing\\_data.py:280: UserWarning: Numerical issues were encountered when scaling the data and might not be solved. The standard deviation of the data is probably very close to 0. \n",
      "  warnings.warn(\n",
      "c:\\Users\\gonca\\miniconda3\\Lib\\site-packages\\sklearn\\preprocessing\\_data.py:280: UserWarning: Numerical issues were encountered when scaling the data and might not be solved. The standard deviation of the data is probably very close to 0. \n",
      "  warnings.warn(\n",
      "c:\\Users\\gonca\\miniconda3\\Lib\\site-packages\\sklearn\\preprocessing\\_data.py:280: UserWarning: Numerical issues were encountered when scaling the data and might not be solved. The standard deviation of the data is probably very close to 0. \n",
      "  warnings.warn(\n",
      "c:\\Users\\gonca\\miniconda3\\Lib\\site-packages\\sklearn\\preprocessing\\_data.py:261: UserWarning: Numerical issues were encountered when centering the data and might not be solved. Dataset may contain too large values. You may need to prescale your features.\n",
      "  warnings.warn(\n",
      "c:\\Users\\gonca\\miniconda3\\Lib\\site-packages\\sklearn\\preprocessing\\_data.py:280: UserWarning: Numerical issues were encountered when scaling the data and might not be solved. The standard deviation of the data is probably very close to 0. \n",
      "  warnings.warn(\n"
     ]
    },
    {
     "name": "stdout",
     "output_type": "stream",
     "text": [
      "Proccesing clock_alarm audio files\n",
      "\tfiles in training set: 32, files in testing set: 8\n"
     ]
    },
    {
     "name": "stderr",
     "output_type": "stream",
     "text": [
      "c:\\Users\\gonca\\miniconda3\\Lib\\site-packages\\sklearn\\preprocessing\\_data.py:280: UserWarning: Numerical issues were encountered when scaling the data and might not be solved. The standard deviation of the data is probably very close to 0. \n",
      "  warnings.warn(\n",
      "c:\\Users\\gonca\\miniconda3\\Lib\\site-packages\\sklearn\\preprocessing\\_data.py:280: UserWarning: Numerical issues were encountered when scaling the data and might not be solved. The standard deviation of the data is probably very close to 0. \n",
      "  warnings.warn(\n",
      "c:\\Users\\gonca\\miniconda3\\Lib\\site-packages\\sklearn\\preprocessing\\_data.py:280: UserWarning: Numerical issues were encountered when scaling the data and might not be solved. The standard deviation of the data is probably very close to 0. \n",
      "  warnings.warn(\n",
      "c:\\Users\\gonca\\miniconda3\\Lib\\site-packages\\sklearn\\preprocessing\\_data.py:261: UserWarning: Numerical issues were encountered when centering the data and might not be solved. Dataset may contain too large values. You may need to prescale your features.\n",
      "  warnings.warn(\n",
      "c:\\Users\\gonca\\miniconda3\\Lib\\site-packages\\sklearn\\preprocessing\\_data.py:280: UserWarning: Numerical issues were encountered when scaling the data and might not be solved. The standard deviation of the data is probably very close to 0. \n",
      "  warnings.warn(\n",
      "c:\\Users\\gonca\\miniconda3\\Lib\\site-packages\\sklearn\\preprocessing\\_data.py:280: UserWarning: Numerical issues were encountered when scaling the data and might not be solved. The standard deviation of the data is probably very close to 0. \n",
      "  warnings.warn(\n",
      "c:\\Users\\gonca\\miniconda3\\Lib\\site-packages\\sklearn\\preprocessing\\_data.py:280: UserWarning: Numerical issues were encountered when scaling the data and might not be solved. The standard deviation of the data is probably very close to 0. \n",
      "  warnings.warn(\n",
      "c:\\Users\\gonca\\miniconda3\\Lib\\site-packages\\sklearn\\preprocessing\\_data.py:280: UserWarning: Numerical issues were encountered when scaling the data and might not be solved. The standard deviation of the data is probably very close to 0. \n",
      "  warnings.warn(\n"
     ]
    },
    {
     "name": "stdout",
     "output_type": "stream",
     "text": [
      "Proccesing keyboard_typing audio files\n",
      "\tfiles in training set: 32, files in testing set: 8\n"
     ]
    },
    {
     "name": "stderr",
     "output_type": "stream",
     "text": [
      "c:\\Users\\gonca\\miniconda3\\Lib\\site-packages\\sklearn\\preprocessing\\_data.py:280: UserWarning: Numerical issues were encountered when scaling the data and might not be solved. The standard deviation of the data is probably very close to 0. \n",
      "  warnings.warn(\n"
     ]
    },
    {
     "name": "stdout",
     "output_type": "stream",
     "text": [
      "Proccesing wind audio files\n",
      "\tfiles in training set: 32, files in testing set: 8\n"
     ]
    },
    {
     "name": "stderr",
     "output_type": "stream",
     "text": [
      "c:\\Users\\gonca\\miniconda3\\Lib\\site-packages\\sklearn\\preprocessing\\_data.py:261: UserWarning: Numerical issues were encountered when centering the data and might not be solved. Dataset may contain too large values. You may need to prescale your features.\n",
      "  warnings.warn(\n",
      "c:\\Users\\gonca\\miniconda3\\Lib\\site-packages\\sklearn\\preprocessing\\_data.py:280: UserWarning: Numerical issues were encountered when scaling the data and might not be solved. The standard deviation of the data is probably very close to 0. \n",
      "  warnings.warn(\n",
      "c:\\Users\\gonca\\miniconda3\\Lib\\site-packages\\sklearn\\preprocessing\\_data.py:280: UserWarning: Numerical issues were encountered when scaling the data and might not be solved. The standard deviation of the data is probably very close to 0. \n",
      "  warnings.warn(\n",
      "c:\\Users\\gonca\\miniconda3\\Lib\\site-packages\\sklearn\\preprocessing\\_data.py:280: UserWarning: Numerical issues were encountered when scaling the data and might not be solved. The standard deviation of the data is probably very close to 0. \n",
      "  warnings.warn(\n",
      "c:\\Users\\gonca\\miniconda3\\Lib\\site-packages\\sklearn\\preprocessing\\_data.py:280: UserWarning: Numerical issues were encountered when scaling the data and might not be solved. The standard deviation of the data is probably very close to 0. \n",
      "  warnings.warn(\n",
      "c:\\Users\\gonca\\miniconda3\\Lib\\site-packages\\sklearn\\preprocessing\\_data.py:280: UserWarning: Numerical issues were encountered when scaling the data and might not be solved. The standard deviation of the data is probably very close to 0. \n",
      "  warnings.warn(\n",
      "c:\\Users\\gonca\\miniconda3\\Lib\\site-packages\\sklearn\\preprocessing\\_data.py:261: UserWarning: Numerical issues were encountered when centering the data and might not be solved. Dataset may contain too large values. You may need to prescale your features.\n",
      "  warnings.warn(\n",
      "c:\\Users\\gonca\\miniconda3\\Lib\\site-packages\\sklearn\\preprocessing\\_data.py:280: UserWarning: Numerical issues were encountered when scaling the data and might not be solved. The standard deviation of the data is probably very close to 0. \n",
      "  warnings.warn(\n",
      "c:\\Users\\gonca\\miniconda3\\Lib\\site-packages\\sklearn\\preprocessing\\_data.py:280: UserWarning: Numerical issues were encountered when scaling the data and might not be solved. The standard deviation of the data is probably very close to 0. \n",
      "  warnings.warn(\n",
      "c:\\Users\\gonca\\miniconda3\\Lib\\site-packages\\sklearn\\preprocessing\\_data.py:280: UserWarning: Numerical issues were encountered when scaling the data and might not be solved. The standard deviation of the data is probably very close to 0. \n",
      "  warnings.warn(\n",
      "c:\\Users\\gonca\\miniconda3\\Lib\\site-packages\\sklearn\\preprocessing\\_data.py:280: UserWarning: Numerical issues were encountered when scaling the data and might not be solved. The standard deviation of the data is probably very close to 0. \n",
      "  warnings.warn(\n",
      "c:\\Users\\gonca\\miniconda3\\Lib\\site-packages\\sklearn\\preprocessing\\_data.py:261: UserWarning: Numerical issues were encountered when centering the data and might not be solved. Dataset may contain too large values. You may need to prescale your features.\n",
      "  warnings.warn(\n",
      "c:\\Users\\gonca\\miniconda3\\Lib\\site-packages\\sklearn\\preprocessing\\_data.py:280: UserWarning: Numerical issues were encountered when scaling the data and might not be solved. The standard deviation of the data is probably very close to 0. \n",
      "  warnings.warn(\n",
      "c:\\Users\\gonca\\miniconda3\\Lib\\site-packages\\sklearn\\preprocessing\\_data.py:280: UserWarning: Numerical issues were encountered when scaling the data and might not be solved. The standard deviation of the data is probably very close to 0. \n",
      "  warnings.warn(\n",
      "c:\\Users\\gonca\\miniconda3\\Lib\\site-packages\\sklearn\\preprocessing\\_data.py:261: UserWarning: Numerical issues were encountered when centering the data and might not be solved. Dataset may contain too large values. You may need to prescale your features.\n",
      "  warnings.warn(\n",
      "c:\\Users\\gonca\\miniconda3\\Lib\\site-packages\\sklearn\\preprocessing\\_data.py:280: UserWarning: Numerical issues were encountered when scaling the data and might not be solved. The standard deviation of the data is probably very close to 0. \n",
      "  warnings.warn(\n",
      "c:\\Users\\gonca\\miniconda3\\Lib\\site-packages\\sklearn\\preprocessing\\_data.py:280: UserWarning: Numerical issues were encountered when scaling the data and might not be solved. The standard deviation of the data is probably very close to 0. \n",
      "  warnings.warn(\n",
      "c:\\Users\\gonca\\miniconda3\\Lib\\site-packages\\sklearn\\preprocessing\\_data.py:280: UserWarning: Numerical issues were encountered when scaling the data and might not be solved. The standard deviation of the data is probably very close to 0. \n",
      "  warnings.warn(\n",
      "c:\\Users\\gonca\\miniconda3\\Lib\\site-packages\\sklearn\\preprocessing\\_data.py:280: UserWarning: Numerical issues were encountered when scaling the data and might not be solved. The standard deviation of the data is probably very close to 0. \n",
      "  warnings.warn(\n"
     ]
    },
    {
     "name": "stdout",
     "output_type": "stream",
     "text": [
      "Proccesing footsteps audio files\n",
      "\tfiles in training set: 32, files in testing set: 8\n"
     ]
    },
    {
     "name": "stderr",
     "output_type": "stream",
     "text": [
      "c:\\Users\\gonca\\miniconda3\\Lib\\site-packages\\sklearn\\preprocessing\\_data.py:280: UserWarning: Numerical issues were encountered when scaling the data and might not be solved. The standard deviation of the data is probably very close to 0. \n",
      "  warnings.warn(\n",
      "c:\\Users\\gonca\\miniconda3\\Lib\\site-packages\\sklearn\\preprocessing\\_data.py:280: UserWarning: Numerical issues were encountered when scaling the data and might not be solved. The standard deviation of the data is probably very close to 0. \n",
      "  warnings.warn(\n",
      "c:\\Users\\gonca\\miniconda3\\Lib\\site-packages\\sklearn\\preprocessing\\_data.py:280: UserWarning: Numerical issues were encountered when scaling the data and might not be solved. The standard deviation of the data is probably very close to 0. \n",
      "  warnings.warn(\n",
      "c:\\Users\\gonca\\miniconda3\\Lib\\site-packages\\sklearn\\preprocessing\\_data.py:280: UserWarning: Numerical issues were encountered when scaling the data and might not be solved. The standard deviation of the data is probably very close to 0. \n",
      "  warnings.warn(\n"
     ]
    },
    {
     "name": "stdout",
     "output_type": "stream",
     "text": [
      "Proccesing frog audio files\n",
      "\tfiles in training set: 32, files in testing set: 8\n"
     ]
    },
    {
     "name": "stderr",
     "output_type": "stream",
     "text": [
      "c:\\Users\\gonca\\miniconda3\\Lib\\site-packages\\sklearn\\preprocessing\\_data.py:280: UserWarning: Numerical issues were encountered when scaling the data and might not be solved. The standard deviation of the data is probably very close to 0. \n",
      "  warnings.warn(\n"
     ]
    },
    {
     "name": "stdout",
     "output_type": "stream",
     "text": [
      "Proccesing cow audio files\n",
      "\tfiles in training set: 32, files in testing set: 8\n"
     ]
    },
    {
     "name": "stderr",
     "output_type": "stream",
     "text": [
      "c:\\Users\\gonca\\miniconda3\\Lib\\site-packages\\sklearn\\preprocessing\\_data.py:280: UserWarning: Numerical issues were encountered when scaling the data and might not be solved. The standard deviation of the data is probably very close to 0. \n",
      "  warnings.warn(\n",
      "c:\\Users\\gonca\\miniconda3\\Lib\\site-packages\\sklearn\\preprocessing\\_data.py:280: UserWarning: Numerical issues were encountered when scaling the data and might not be solved. The standard deviation of the data is probably very close to 0. \n",
      "  warnings.warn(\n",
      "c:\\Users\\gonca\\miniconda3\\Lib\\site-packages\\sklearn\\preprocessing\\_data.py:280: UserWarning: Numerical issues were encountered when scaling the data and might not be solved. The standard deviation of the data is probably very close to 0. \n",
      "  warnings.warn(\n",
      "c:\\Users\\gonca\\miniconda3\\Lib\\site-packages\\sklearn\\preprocessing\\_data.py:261: UserWarning: Numerical issues were encountered when centering the data and might not be solved. Dataset may contain too large values. You may need to prescale your features.\n",
      "  warnings.warn(\n",
      "c:\\Users\\gonca\\miniconda3\\Lib\\site-packages\\sklearn\\preprocessing\\_data.py:280: UserWarning: Numerical issues were encountered when scaling the data and might not be solved. The standard deviation of the data is probably very close to 0. \n",
      "  warnings.warn(\n"
     ]
    },
    {
     "name": "stdout",
     "output_type": "stream",
     "text": [
      "Proccesing brushing_teeth audio files\n",
      "\tfiles in training set: 32, files in testing set: 8\n"
     ]
    },
    {
     "name": "stderr",
     "output_type": "stream",
     "text": [
      "c:\\Users\\gonca\\miniconda3\\Lib\\site-packages\\sklearn\\preprocessing\\_data.py:280: UserWarning: Numerical issues were encountered when scaling the data and might not be solved. The standard deviation of the data is probably very close to 0. \n",
      "  warnings.warn(\n",
      "c:\\Users\\gonca\\miniconda3\\Lib\\site-packages\\sklearn\\preprocessing\\_data.py:280: UserWarning: Numerical issues were encountered when scaling the data and might not be solved. The standard deviation of the data is probably very close to 0. \n",
      "  warnings.warn(\n",
      "c:\\Users\\gonca\\miniconda3\\Lib\\site-packages\\sklearn\\preprocessing\\_data.py:280: UserWarning: Numerical issues were encountered when scaling the data and might not be solved. The standard deviation of the data is probably very close to 0. \n",
      "  warnings.warn(\n",
      "c:\\Users\\gonca\\miniconda3\\Lib\\site-packages\\sklearn\\preprocessing\\_data.py:280: UserWarning: Numerical issues were encountered when scaling the data and might not be solved. The standard deviation of the data is probably very close to 0. \n",
      "  warnings.warn(\n",
      "c:\\Users\\gonca\\miniconda3\\Lib\\site-packages\\sklearn\\preprocessing\\_data.py:280: UserWarning: Numerical issues were encountered when scaling the data and might not be solved. The standard deviation of the data is probably very close to 0. \n",
      "  warnings.warn(\n",
      "c:\\Users\\gonca\\miniconda3\\Lib\\site-packages\\sklearn\\preprocessing\\_data.py:280: UserWarning: Numerical issues were encountered when scaling the data and might not be solved. The standard deviation of the data is probably very close to 0. \n",
      "  warnings.warn(\n"
     ]
    },
    {
     "name": "stdout",
     "output_type": "stream",
     "text": [
      "Proccesing car_horn audio files\n",
      "\tfiles in training set: 32, files in testing set: 8\n"
     ]
    },
    {
     "name": "stderr",
     "output_type": "stream",
     "text": [
      "c:\\Users\\gonca\\miniconda3\\Lib\\site-packages\\sklearn\\preprocessing\\_data.py:280: UserWarning: Numerical issues were encountered when scaling the data and might not be solved. The standard deviation of the data is probably very close to 0. \n",
      "  warnings.warn(\n",
      "c:\\Users\\gonca\\miniconda3\\Lib\\site-packages\\sklearn\\preprocessing\\_data.py:280: UserWarning: Numerical issues were encountered when scaling the data and might not be solved. The standard deviation of the data is probably very close to 0. \n",
      "  warnings.warn(\n",
      "c:\\Users\\gonca\\miniconda3\\Lib\\site-packages\\sklearn\\preprocessing\\_data.py:280: UserWarning: Numerical issues were encountered when scaling the data and might not be solved. The standard deviation of the data is probably very close to 0. \n",
      "  warnings.warn(\n",
      "c:\\Users\\gonca\\miniconda3\\Lib\\site-packages\\sklearn\\preprocessing\\_data.py:261: UserWarning: Numerical issues were encountered when centering the data and might not be solved. Dataset may contain too large values. You may need to prescale your features.\n",
      "  warnings.warn(\n",
      "c:\\Users\\gonca\\miniconda3\\Lib\\site-packages\\sklearn\\preprocessing\\_data.py:280: UserWarning: Numerical issues were encountered when scaling the data and might not be solved. The standard deviation of the data is probably very close to 0. \n",
      "  warnings.warn(\n"
     ]
    },
    {
     "name": "stdout",
     "output_type": "stream",
     "text": [
      "Proccesing crackling_fire audio files\n",
      "\tfiles in training set: 32, files in testing set: 8\n"
     ]
    },
    {
     "name": "stderr",
     "output_type": "stream",
     "text": [
      "c:\\Users\\gonca\\miniconda3\\Lib\\site-packages\\sklearn\\preprocessing\\_data.py:280: UserWarning: Numerical issues were encountered when scaling the data and might not be solved. The standard deviation of the data is probably very close to 0. \n",
      "  warnings.warn(\n",
      "c:\\Users\\gonca\\miniconda3\\Lib\\site-packages\\sklearn\\preprocessing\\_data.py:280: UserWarning: Numerical issues were encountered when scaling the data and might not be solved. The standard deviation of the data is probably very close to 0. \n",
      "  warnings.warn(\n",
      "c:\\Users\\gonca\\miniconda3\\Lib\\site-packages\\sklearn\\preprocessing\\_data.py:261: UserWarning: Numerical issues were encountered when centering the data and might not be solved. Dataset may contain too large values. You may need to prescale your features.\n",
      "  warnings.warn(\n",
      "c:\\Users\\gonca\\miniconda3\\Lib\\site-packages\\sklearn\\preprocessing\\_data.py:280: UserWarning: Numerical issues were encountered when scaling the data and might not be solved. The standard deviation of the data is probably very close to 0. \n",
      "  warnings.warn(\n",
      "c:\\Users\\gonca\\miniconda3\\Lib\\site-packages\\sklearn\\preprocessing\\_data.py:261: UserWarning: Numerical issues were encountered when centering the data and might not be solved. Dataset may contain too large values. You may need to prescale your features.\n",
      "  warnings.warn(\n",
      "c:\\Users\\gonca\\miniconda3\\Lib\\site-packages\\sklearn\\preprocessing\\_data.py:280: UserWarning: Numerical issues were encountered when scaling the data and might not be solved. The standard deviation of the data is probably very close to 0. \n",
      "  warnings.warn(\n",
      "c:\\Users\\gonca\\miniconda3\\Lib\\site-packages\\sklearn\\preprocessing\\_data.py:280: UserWarning: Numerical issues were encountered when scaling the data and might not be solved. The standard deviation of the data is probably very close to 0. \n",
      "  warnings.warn(\n",
      "c:\\Users\\gonca\\miniconda3\\Lib\\site-packages\\sklearn\\preprocessing\\_data.py:261: UserWarning: Numerical issues were encountered when centering the data and might not be solved. Dataset may contain too large values. You may need to prescale your features.\n",
      "  warnings.warn(\n",
      "c:\\Users\\gonca\\miniconda3\\Lib\\site-packages\\sklearn\\preprocessing\\_data.py:280: UserWarning: Numerical issues were encountered when scaling the data and might not be solved. The standard deviation of the data is probably very close to 0. \n",
      "  warnings.warn(\n"
     ]
    },
    {
     "name": "stdout",
     "output_type": "stream",
     "text": [
      "Proccesing helicopter audio files\n",
      "\tfiles in training set: 32, files in testing set: 8\n"
     ]
    },
    {
     "name": "stderr",
     "output_type": "stream",
     "text": [
      "c:\\Users\\gonca\\miniconda3\\Lib\\site-packages\\sklearn\\preprocessing\\_data.py:280: UserWarning: Numerical issues were encountered when scaling the data and might not be solved. The standard deviation of the data is probably very close to 0. \n",
      "  warnings.warn(\n",
      "c:\\Users\\gonca\\miniconda3\\Lib\\site-packages\\sklearn\\preprocessing\\_data.py:280: UserWarning: Numerical issues were encountered when scaling the data and might not be solved. The standard deviation of the data is probably very close to 0. \n",
      "  warnings.warn(\n",
      "c:\\Users\\gonca\\miniconda3\\Lib\\site-packages\\sklearn\\preprocessing\\_data.py:261: UserWarning: Numerical issues were encountered when centering the data and might not be solved. Dataset may contain too large values. You may need to prescale your features.\n",
      "  warnings.warn(\n",
      "c:\\Users\\gonca\\miniconda3\\Lib\\site-packages\\sklearn\\preprocessing\\_data.py:280: UserWarning: Numerical issues were encountered when scaling the data and might not be solved. The standard deviation of the data is probably very close to 0. \n",
      "  warnings.warn(\n",
      "c:\\Users\\gonca\\miniconda3\\Lib\\site-packages\\sklearn\\preprocessing\\_data.py:261: UserWarning: Numerical issues were encountered when centering the data and might not be solved. Dataset may contain too large values. You may need to prescale your features.\n",
      "  warnings.warn(\n",
      "c:\\Users\\gonca\\miniconda3\\Lib\\site-packages\\sklearn\\preprocessing\\_data.py:280: UserWarning: Numerical issues were encountered when scaling the data and might not be solved. The standard deviation of the data is probably very close to 0. \n",
      "  warnings.warn(\n",
      "c:\\Users\\gonca\\miniconda3\\Lib\\site-packages\\sklearn\\preprocessing\\_data.py:280: UserWarning: Numerical issues were encountered when scaling the data and might not be solved. The standard deviation of the data is probably very close to 0. \n",
      "  warnings.warn(\n"
     ]
    },
    {
     "name": "stdout",
     "output_type": "stream",
     "text": [
      "Proccesing drinking_sipping audio files\n",
      "\tfiles in training set: 32, files in testing set: 8\n"
     ]
    },
    {
     "name": "stderr",
     "output_type": "stream",
     "text": [
      "c:\\Users\\gonca\\miniconda3\\Lib\\site-packages\\sklearn\\preprocessing\\_data.py:280: UserWarning: Numerical issues were encountered when scaling the data and might not be solved. The standard deviation of the data is probably very close to 0. \n",
      "  warnings.warn(\n"
     ]
    },
    {
     "name": "stdout",
     "output_type": "stream",
     "text": [
      "Proccesing rain audio files\n",
      "\tfiles in training set: 32, files in testing set: 8\n"
     ]
    },
    {
     "name": "stderr",
     "output_type": "stream",
     "text": [
      "c:\\Users\\gonca\\miniconda3\\Lib\\site-packages\\sklearn\\preprocessing\\_data.py:280: UserWarning: Numerical issues were encountered when scaling the data and might not be solved. The standard deviation of the data is probably very close to 0. \n",
      "  warnings.warn(\n",
      "c:\\Users\\gonca\\miniconda3\\Lib\\site-packages\\sklearn\\preprocessing\\_data.py:280: UserWarning: Numerical issues were encountered when scaling the data and might not be solved. The standard deviation of the data is probably very close to 0. \n",
      "  warnings.warn(\n",
      "c:\\Users\\gonca\\miniconda3\\Lib\\site-packages\\sklearn\\preprocessing\\_data.py:280: UserWarning: Numerical issues were encountered when scaling the data and might not be solved. The standard deviation of the data is probably very close to 0. \n",
      "  warnings.warn(\n",
      "c:\\Users\\gonca\\miniconda3\\Lib\\site-packages\\sklearn\\preprocessing\\_data.py:280: UserWarning: Numerical issues were encountered when scaling the data and might not be solved. The standard deviation of the data is probably very close to 0. \n",
      "  warnings.warn(\n",
      "c:\\Users\\gonca\\miniconda3\\Lib\\site-packages\\sklearn\\preprocessing\\_data.py:280: UserWarning: Numerical issues were encountered when scaling the data and might not be solved. The standard deviation of the data is probably very close to 0. \n",
      "  warnings.warn(\n",
      "c:\\Users\\gonca\\miniconda3\\Lib\\site-packages\\sklearn\\preprocessing\\_data.py:280: UserWarning: Numerical issues were encountered when scaling the data and might not be solved. The standard deviation of the data is probably very close to 0. \n",
      "  warnings.warn(\n",
      "c:\\Users\\gonca\\miniconda3\\Lib\\site-packages\\sklearn\\preprocessing\\_data.py:280: UserWarning: Numerical issues were encountered when scaling the data and might not be solved. The standard deviation of the data is probably very close to 0. \n",
      "  warnings.warn(\n",
      "c:\\Users\\gonca\\miniconda3\\Lib\\site-packages\\sklearn\\preprocessing\\_data.py:280: UserWarning: Numerical issues were encountered when scaling the data and might not be solved. The standard deviation of the data is probably very close to 0. \n",
      "  warnings.warn(\n"
     ]
    },
    {
     "name": "stdout",
     "output_type": "stream",
     "text": [
      "Proccesing insects audio files\n",
      "\tfiles in training set: 32, files in testing set: 8\n"
     ]
    },
    {
     "name": "stderr",
     "output_type": "stream",
     "text": [
      "c:\\Users\\gonca\\miniconda3\\Lib\\site-packages\\sklearn\\preprocessing\\_data.py:280: UserWarning: Numerical issues were encountered when scaling the data and might not be solved. The standard deviation of the data is probably very close to 0. \n",
      "  warnings.warn(\n",
      "c:\\Users\\gonca\\miniconda3\\Lib\\site-packages\\sklearn\\preprocessing\\_data.py:280: UserWarning: Numerical issues were encountered when scaling the data and might not be solved. The standard deviation of the data is probably very close to 0. \n",
      "  warnings.warn(\n",
      "c:\\Users\\gonca\\miniconda3\\Lib\\site-packages\\sklearn\\preprocessing\\_data.py:280: UserWarning: Numerical issues were encountered when scaling the data and might not be solved. The standard deviation of the data is probably very close to 0. \n",
      "  warnings.warn(\n",
      "c:\\Users\\gonca\\miniconda3\\Lib\\site-packages\\sklearn\\preprocessing\\_data.py:280: UserWarning: Numerical issues were encountered when scaling the data and might not be solved. The standard deviation of the data is probably very close to 0. \n",
      "  warnings.warn(\n",
      "c:\\Users\\gonca\\miniconda3\\Lib\\site-packages\\sklearn\\preprocessing\\_data.py:280: UserWarning: Numerical issues were encountered when scaling the data and might not be solved. The standard deviation of the data is probably very close to 0. \n",
      "  warnings.warn(\n"
     ]
    },
    {
     "name": "stdout",
     "output_type": "stream",
     "text": [
      "Proccesing laughing audio files\n",
      "\tfiles in training set: 32, files in testing set: 8\n"
     ]
    },
    {
     "name": "stderr",
     "output_type": "stream",
     "text": [
      "c:\\Users\\gonca\\miniconda3\\Lib\\site-packages\\sklearn\\preprocessing\\_data.py:280: UserWarning: Numerical issues were encountered when scaling the data and might not be solved. The standard deviation of the data is probably very close to 0. \n",
      "  warnings.warn(\n"
     ]
    },
    {
     "name": "stdout",
     "output_type": "stream",
     "text": [
      "Proccesing hen audio files\n",
      "\tfiles in training set: 32, files in testing set: 8\n"
     ]
    },
    {
     "name": "stderr",
     "output_type": "stream",
     "text": [
      "c:\\Users\\gonca\\miniconda3\\Lib\\site-packages\\sklearn\\preprocessing\\_data.py:280: UserWarning: Numerical issues were encountered when scaling the data and might not be solved. The standard deviation of the data is probably very close to 0. \n",
      "  warnings.warn(\n",
      "c:\\Users\\gonca\\miniconda3\\Lib\\site-packages\\sklearn\\preprocessing\\_data.py:280: UserWarning: Numerical issues were encountered when scaling the data and might not be solved. The standard deviation of the data is probably very close to 0. \n",
      "  warnings.warn(\n"
     ]
    },
    {
     "name": "stdout",
     "output_type": "stream",
     "text": [
      "Proccesing engine audio files\n",
      "\tfiles in training set: 32, files in testing set: 8\n"
     ]
    },
    {
     "name": "stderr",
     "output_type": "stream",
     "text": [
      "c:\\Users\\gonca\\miniconda3\\Lib\\site-packages\\sklearn\\preprocessing\\_data.py:280: UserWarning: Numerical issues were encountered when scaling the data and might not be solved. The standard deviation of the data is probably very close to 0. \n",
      "  warnings.warn(\n",
      "c:\\Users\\gonca\\miniconda3\\Lib\\site-packages\\sklearn\\preprocessing\\_data.py:280: UserWarning: Numerical issues were encountered when scaling the data and might not be solved. The standard deviation of the data is probably very close to 0. \n",
      "  warnings.warn(\n",
      "c:\\Users\\gonca\\miniconda3\\Lib\\site-packages\\sklearn\\preprocessing\\_data.py:280: UserWarning: Numerical issues were encountered when scaling the data and might not be solved. The standard deviation of the data is probably very close to 0. \n",
      "  warnings.warn(\n",
      "c:\\Users\\gonca\\miniconda3\\Lib\\site-packages\\sklearn\\preprocessing\\_data.py:261: UserWarning: Numerical issues were encountered when centering the data and might not be solved. Dataset may contain too large values. You may need to prescale your features.\n",
      "  warnings.warn(\n",
      "c:\\Users\\gonca\\miniconda3\\Lib\\site-packages\\sklearn\\preprocessing\\_data.py:280: UserWarning: Numerical issues were encountered when scaling the data and might not be solved. The standard deviation of the data is probably very close to 0. \n",
      "  warnings.warn(\n",
      "c:\\Users\\gonca\\miniconda3\\Lib\\site-packages\\sklearn\\preprocessing\\_data.py:261: UserWarning: Numerical issues were encountered when centering the data and might not be solved. Dataset may contain too large values. You may need to prescale your features.\n",
      "  warnings.warn(\n",
      "c:\\Users\\gonca\\miniconda3\\Lib\\site-packages\\sklearn\\preprocessing\\_data.py:280: UserWarning: Numerical issues were encountered when scaling the data and might not be solved. The standard deviation of the data is probably very close to 0. \n",
      "  warnings.warn(\n",
      "c:\\Users\\gonca\\miniconda3\\Lib\\site-packages\\sklearn\\preprocessing\\_data.py:261: UserWarning: Numerical issues were encountered when centering the data and might not be solved. Dataset may contain too large values. You may need to prescale your features.\n",
      "  warnings.warn(\n",
      "c:\\Users\\gonca\\miniconda3\\Lib\\site-packages\\sklearn\\preprocessing\\_data.py:280: UserWarning: Numerical issues were encountered when scaling the data and might not be solved. The standard deviation of the data is probably very close to 0. \n",
      "  warnings.warn(\n",
      "c:\\Users\\gonca\\miniconda3\\Lib\\site-packages\\sklearn\\preprocessing\\_data.py:280: UserWarning: Numerical issues were encountered when scaling the data and might not be solved. The standard deviation of the data is probably very close to 0. \n",
      "  warnings.warn(\n",
      "c:\\Users\\gonca\\miniconda3\\Lib\\site-packages\\sklearn\\preprocessing\\_data.py:261: UserWarning: Numerical issues were encountered when centering the data and might not be solved. Dataset may contain too large values. You may need to prescale your features.\n",
      "  warnings.warn(\n",
      "c:\\Users\\gonca\\miniconda3\\Lib\\site-packages\\sklearn\\preprocessing\\_data.py:280: UserWarning: Numerical issues were encountered when scaling the data and might not be solved. The standard deviation of the data is probably very close to 0. \n",
      "  warnings.warn(\n",
      "c:\\Users\\gonca\\miniconda3\\Lib\\site-packages\\sklearn\\preprocessing\\_data.py:280: UserWarning: Numerical issues were encountered when scaling the data and might not be solved. The standard deviation of the data is probably very close to 0. \n",
      "  warnings.warn(\n",
      "c:\\Users\\gonca\\miniconda3\\Lib\\site-packages\\sklearn\\preprocessing\\_data.py:280: UserWarning: Numerical issues were encountered when scaling the data and might not be solved. The standard deviation of the data is probably very close to 0. \n",
      "  warnings.warn(\n",
      "c:\\Users\\gonca\\miniconda3\\Lib\\site-packages\\sklearn\\preprocessing\\_data.py:261: UserWarning: Numerical issues were encountered when centering the data and might not be solved. Dataset may contain too large values. You may need to prescale your features.\n",
      "  warnings.warn(\n",
      "c:\\Users\\gonca\\miniconda3\\Lib\\site-packages\\sklearn\\preprocessing\\_data.py:280: UserWarning: Numerical issues were encountered when scaling the data and might not be solved. The standard deviation of the data is probably very close to 0. \n",
      "  warnings.warn(\n"
     ]
    },
    {
     "name": "stdout",
     "output_type": "stream",
     "text": [
      "Proccesing breathing audio files\n",
      "\tfiles in training set: 32, files in testing set: 8\n"
     ]
    },
    {
     "name": "stderr",
     "output_type": "stream",
     "text": [
      "c:\\Users\\gonca\\miniconda3\\Lib\\site-packages\\sklearn\\preprocessing\\_data.py:280: UserWarning: Numerical issues were encountered when scaling the data and might not be solved. The standard deviation of the data is probably very close to 0. \n",
      "  warnings.warn(\n",
      "c:\\Users\\gonca\\miniconda3\\Lib\\site-packages\\sklearn\\preprocessing\\_data.py:280: UserWarning: Numerical issues were encountered when scaling the data and might not be solved. The standard deviation of the data is probably very close to 0. \n",
      "  warnings.warn(\n"
     ]
    },
    {
     "name": "stdout",
     "output_type": "stream",
     "text": [
      "Proccesing crying_baby audio files\n",
      "\tfiles in training set: 32, files in testing set: 8\n"
     ]
    },
    {
     "name": "stderr",
     "output_type": "stream",
     "text": [
      "c:\\Users\\gonca\\miniconda3\\Lib\\site-packages\\sklearn\\preprocessing\\_data.py:280: UserWarning: Numerical issues were encountered when scaling the data and might not be solved. The standard deviation of the data is probably very close to 0. \n",
      "  warnings.warn(\n",
      "c:\\Users\\gonca\\miniconda3\\Lib\\site-packages\\sklearn\\preprocessing\\_data.py:280: UserWarning: Numerical issues were encountered when scaling the data and might not be solved. The standard deviation of the data is probably very close to 0. \n",
      "  warnings.warn(\n"
     ]
    },
    {
     "name": "stdout",
     "output_type": "stream",
     "text": [
      "Proccesing hand_saw audio files\n",
      "\tfiles in training set: 32, files in testing set: 8\n"
     ]
    },
    {
     "name": "stderr",
     "output_type": "stream",
     "text": [
      "c:\\Users\\gonca\\miniconda3\\Lib\\site-packages\\sklearn\\preprocessing\\_data.py:280: UserWarning: Numerical issues were encountered when scaling the data and might not be solved. The standard deviation of the data is probably very close to 0. \n",
      "  warnings.warn(\n"
     ]
    },
    {
     "name": "stdout",
     "output_type": "stream",
     "text": [
      "Proccesing coughing audio files\n",
      "\tfiles in training set: 32, files in testing set: 8\n"
     ]
    },
    {
     "name": "stderr",
     "output_type": "stream",
     "text": [
      "c:\\Users\\gonca\\miniconda3\\Lib\\site-packages\\sklearn\\preprocessing\\_data.py:280: UserWarning: Numerical issues were encountered when scaling the data and might not be solved. The standard deviation of the data is probably very close to 0. \n",
      "  warnings.warn(\n"
     ]
    },
    {
     "name": "stdout",
     "output_type": "stream",
     "text": [
      "Proccesing glass_breaking audio files\n",
      "\tfiles in training set: 32, files in testing set: 8\n",
      "Proccesing snoring audio files\n",
      "\tfiles in training set: 32, files in testing set: 8\n"
     ]
    },
    {
     "name": "stderr",
     "output_type": "stream",
     "text": [
      "c:\\Users\\gonca\\miniconda3\\Lib\\site-packages\\sklearn\\preprocessing\\_data.py:280: UserWarning: Numerical issues were encountered when scaling the data and might not be solved. The standard deviation of the data is probably very close to 0. \n",
      "  warnings.warn(\n"
     ]
    },
    {
     "name": "stdout",
     "output_type": "stream",
     "text": [
      "Proccesing toilet_flush audio files\n",
      "\tfiles in training set: 32, files in testing set: 8\n"
     ]
    },
    {
     "name": "stderr",
     "output_type": "stream",
     "text": [
      "c:\\Users\\gonca\\miniconda3\\Lib\\site-packages\\sklearn\\preprocessing\\_data.py:280: UserWarning: Numerical issues were encountered when scaling the data and might not be solved. The standard deviation of the data is probably very close to 0. \n",
      "  warnings.warn(\n",
      "c:\\Users\\gonca\\miniconda3\\Lib\\site-packages\\sklearn\\preprocessing\\_data.py:280: UserWarning: Numerical issues were encountered when scaling the data and might not be solved. The standard deviation of the data is probably very close to 0. \n",
      "  warnings.warn(\n",
      "c:\\Users\\gonca\\miniconda3\\Lib\\site-packages\\sklearn\\preprocessing\\_data.py:280: UserWarning: Numerical issues were encountered when scaling the data and might not be solved. The standard deviation of the data is probably very close to 0. \n",
      "  warnings.warn(\n",
      "c:\\Users\\gonca\\miniconda3\\Lib\\site-packages\\sklearn\\preprocessing\\_data.py:280: UserWarning: Numerical issues were encountered when scaling the data and might not be solved. The standard deviation of the data is probably very close to 0. \n",
      "  warnings.warn(\n",
      "c:\\Users\\gonca\\miniconda3\\Lib\\site-packages\\sklearn\\preprocessing\\_data.py:280: UserWarning: Numerical issues were encountered when scaling the data and might not be solved. The standard deviation of the data is probably very close to 0. \n",
      "  warnings.warn(\n"
     ]
    },
    {
     "name": "stdout",
     "output_type": "stream",
     "text": [
      "Proccesing pig audio files\n",
      "\tfiles in training set: 32, files in testing set: 8\n"
     ]
    },
    {
     "name": "stderr",
     "output_type": "stream",
     "text": [
      "c:\\Users\\gonca\\miniconda3\\Lib\\site-packages\\sklearn\\preprocessing\\_data.py:261: UserWarning: Numerical issues were encountered when centering the data and might not be solved. Dataset may contain too large values. You may need to prescale your features.\n",
      "  warnings.warn(\n"
     ]
    },
    {
     "name": "stdout",
     "output_type": "stream",
     "text": [
      "Proccesing washing_machine audio files\n",
      "\tfiles in training set: 32, files in testing set: 8\n"
     ]
    },
    {
     "name": "stderr",
     "output_type": "stream",
     "text": [
      "c:\\Users\\gonca\\miniconda3\\Lib\\site-packages\\sklearn\\preprocessing\\_data.py:261: UserWarning: Numerical issues were encountered when centering the data and might not be solved. Dataset may contain too large values. You may need to prescale your features.\n",
      "  warnings.warn(\n",
      "c:\\Users\\gonca\\miniconda3\\Lib\\site-packages\\sklearn\\preprocessing\\_data.py:280: UserWarning: Numerical issues were encountered when scaling the data and might not be solved. The standard deviation of the data is probably very close to 0. \n",
      "  warnings.warn(\n",
      "c:\\Users\\gonca\\miniconda3\\Lib\\site-packages\\sklearn\\preprocessing\\_data.py:280: UserWarning: Numerical issues were encountered when scaling the data and might not be solved. The standard deviation of the data is probably very close to 0. \n",
      "  warnings.warn(\n",
      "c:\\Users\\gonca\\miniconda3\\Lib\\site-packages\\sklearn\\preprocessing\\_data.py:280: UserWarning: Numerical issues were encountered when scaling the data and might not be solved. The standard deviation of the data is probably very close to 0. \n",
      "  warnings.warn(\n",
      "c:\\Users\\gonca\\miniconda3\\Lib\\site-packages\\sklearn\\preprocessing\\_data.py:280: UserWarning: Numerical issues were encountered when scaling the data and might not be solved. The standard deviation of the data is probably very close to 0. \n",
      "  warnings.warn(\n",
      "c:\\Users\\gonca\\miniconda3\\Lib\\site-packages\\sklearn\\preprocessing\\_data.py:280: UserWarning: Numerical issues were encountered when scaling the data and might not be solved. The standard deviation of the data is probably very close to 0. \n",
      "  warnings.warn(\n",
      "c:\\Users\\gonca\\miniconda3\\Lib\\site-packages\\sklearn\\preprocessing\\_data.py:261: UserWarning: Numerical issues were encountered when centering the data and might not be solved. Dataset may contain too large values. You may need to prescale your features.\n",
      "  warnings.warn(\n",
      "c:\\Users\\gonca\\miniconda3\\Lib\\site-packages\\sklearn\\preprocessing\\_data.py:280: UserWarning: Numerical issues were encountered when scaling the data and might not be solved. The standard deviation of the data is probably very close to 0. \n",
      "  warnings.warn(\n",
      "c:\\Users\\gonca\\miniconda3\\Lib\\site-packages\\sklearn\\preprocessing\\_data.py:261: UserWarning: Numerical issues were encountered when centering the data and might not be solved. Dataset may contain too large values. You may need to prescale your features.\n",
      "  warnings.warn(\n",
      "c:\\Users\\gonca\\miniconda3\\Lib\\site-packages\\sklearn\\preprocessing\\_data.py:280: UserWarning: Numerical issues were encountered when scaling the data and might not be solved. The standard deviation of the data is probably very close to 0. \n",
      "  warnings.warn(\n",
      "c:\\Users\\gonca\\miniconda3\\Lib\\site-packages\\sklearn\\preprocessing\\_data.py:280: UserWarning: Numerical issues were encountered when scaling the data and might not be solved. The standard deviation of the data is probably very close to 0. \n",
      "  warnings.warn(\n",
      "c:\\Users\\gonca\\miniconda3\\Lib\\site-packages\\sklearn\\preprocessing\\_data.py:280: UserWarning: Numerical issues were encountered when scaling the data and might not be solved. The standard deviation of the data is probably very close to 0. \n",
      "  warnings.warn(\n",
      "c:\\Users\\gonca\\miniconda3\\Lib\\site-packages\\sklearn\\preprocessing\\_data.py:261: UserWarning: Numerical issues were encountered when centering the data and might not be solved. Dataset may contain too large values. You may need to prescale your features.\n",
      "  warnings.warn(\n",
      "c:\\Users\\gonca\\miniconda3\\Lib\\site-packages\\sklearn\\preprocessing\\_data.py:280: UserWarning: Numerical issues were encountered when scaling the data and might not be solved. The standard deviation of the data is probably very close to 0. \n",
      "  warnings.warn(\n",
      "c:\\Users\\gonca\\miniconda3\\Lib\\site-packages\\sklearn\\preprocessing\\_data.py:261: UserWarning: Numerical issues were encountered when centering the data and might not be solved. Dataset may contain too large values. You may need to prescale your features.\n",
      "  warnings.warn(\n",
      "c:\\Users\\gonca\\miniconda3\\Lib\\site-packages\\sklearn\\preprocessing\\_data.py:280: UserWarning: Numerical issues were encountered when scaling the data and might not be solved. The standard deviation of the data is probably very close to 0. \n",
      "  warnings.warn(\n",
      "c:\\Users\\gonca\\miniconda3\\Lib\\site-packages\\sklearn\\preprocessing\\_data.py:280: UserWarning: Numerical issues were encountered when scaling the data and might not be solved. The standard deviation of the data is probably very close to 0. \n",
      "  warnings.warn(\n",
      "c:\\Users\\gonca\\miniconda3\\Lib\\site-packages\\sklearn\\preprocessing\\_data.py:280: UserWarning: Numerical issues were encountered when scaling the data and might not be solved. The standard deviation of the data is probably very close to 0. \n",
      "  warnings.warn(\n",
      "c:\\Users\\gonca\\miniconda3\\Lib\\site-packages\\sklearn\\preprocessing\\_data.py:280: UserWarning: Numerical issues were encountered when scaling the data and might not be solved. The standard deviation of the data is probably very close to 0. \n",
      "  warnings.warn(\n",
      "c:\\Users\\gonca\\miniconda3\\Lib\\site-packages\\sklearn\\preprocessing\\_data.py:280: UserWarning: Numerical issues were encountered when scaling the data and might not be solved. The standard deviation of the data is probably very close to 0. \n",
      "  warnings.warn(\n"
     ]
    },
    {
     "name": "stdout",
     "output_type": "stream",
     "text": [
      "Proccesing clock_tick audio files\n",
      "\tfiles in training set: 32, files in testing set: 8\n"
     ]
    },
    {
     "name": "stderr",
     "output_type": "stream",
     "text": [
      "c:\\Users\\gonca\\miniconda3\\Lib\\site-packages\\sklearn\\preprocessing\\_data.py:280: UserWarning: Numerical issues were encountered when scaling the data and might not be solved. The standard deviation of the data is probably very close to 0. \n",
      "  warnings.warn(\n",
      "c:\\Users\\gonca\\miniconda3\\Lib\\site-packages\\sklearn\\preprocessing\\_data.py:280: UserWarning: Numerical issues were encountered when scaling the data and might not be solved. The standard deviation of the data is probably very close to 0. \n",
      "  warnings.warn(\n"
     ]
    },
    {
     "name": "stdout",
     "output_type": "stream",
     "text": [
      "Proccesing sneezing audio files\n",
      "\tfiles in training set: 32, files in testing set: 8\n",
      "Proccesing rooster audio files\n",
      "\tfiles in training set: 32, files in testing set: 8\n"
     ]
    },
    {
     "name": "stderr",
     "output_type": "stream",
     "text": [
      "c:\\Users\\gonca\\miniconda3\\Lib\\site-packages\\sklearn\\preprocessing\\_data.py:280: UserWarning: Numerical issues were encountered when scaling the data and might not be solved. The standard deviation of the data is probably very close to 0. \n",
      "  warnings.warn(\n"
     ]
    },
    {
     "name": "stdout",
     "output_type": "stream",
     "text": [
      "Proccesing sea_waves audio files\n",
      "\tfiles in training set: 32, files in testing set: 8\n"
     ]
    },
    {
     "name": "stderr",
     "output_type": "stream",
     "text": [
      "c:\\Users\\gonca\\miniconda3\\Lib\\site-packages\\sklearn\\preprocessing\\_data.py:280: UserWarning: Numerical issues were encountered when scaling the data and might not be solved. The standard deviation of the data is probably very close to 0. \n",
      "  warnings.warn(\n",
      "c:\\Users\\gonca\\miniconda3\\Lib\\site-packages\\sklearn\\preprocessing\\_data.py:280: UserWarning: Numerical issues were encountered when scaling the data and might not be solved. The standard deviation of the data is probably very close to 0. \n",
      "  warnings.warn(\n",
      "c:\\Users\\gonca\\miniconda3\\Lib\\site-packages\\sklearn\\preprocessing\\_data.py:280: UserWarning: Numerical issues were encountered when scaling the data and might not be solved. The standard deviation of the data is probably very close to 0. \n",
      "  warnings.warn(\n",
      "c:\\Users\\gonca\\miniconda3\\Lib\\site-packages\\sklearn\\preprocessing\\_data.py:280: UserWarning: Numerical issues were encountered when scaling the data and might not be solved. The standard deviation of the data is probably very close to 0. \n",
      "  warnings.warn(\n",
      "c:\\Users\\gonca\\miniconda3\\Lib\\site-packages\\sklearn\\preprocessing\\_data.py:280: UserWarning: Numerical issues were encountered when scaling the data and might not be solved. The standard deviation of the data is probably very close to 0. \n",
      "  warnings.warn(\n",
      "c:\\Users\\gonca\\miniconda3\\Lib\\site-packages\\sklearn\\preprocessing\\_data.py:280: UserWarning: Numerical issues were encountered when scaling the data and might not be solved. The standard deviation of the data is probably very close to 0. \n",
      "  warnings.warn(\n",
      "c:\\Users\\gonca\\miniconda3\\Lib\\site-packages\\sklearn\\preprocessing\\_data.py:280: UserWarning: Numerical issues were encountered when scaling the data and might not be solved. The standard deviation of the data is probably very close to 0. \n",
      "  warnings.warn(\n"
     ]
    },
    {
     "name": "stdout",
     "output_type": "stream",
     "text": [
      "Proccesing siren audio files\n",
      "\tfiles in training set: 32, files in testing set: 8\n"
     ]
    },
    {
     "name": "stderr",
     "output_type": "stream",
     "text": [
      "c:\\Users\\gonca\\miniconda3\\Lib\\site-packages\\sklearn\\preprocessing\\_data.py:280: UserWarning: Numerical issues were encountered when scaling the data and might not be solved. The standard deviation of the data is probably very close to 0. \n",
      "  warnings.warn(\n",
      "c:\\Users\\gonca\\miniconda3\\Lib\\site-packages\\sklearn\\preprocessing\\_data.py:261: UserWarning: Numerical issues were encountered when centering the data and might not be solved. Dataset may contain too large values. You may need to prescale your features.\n",
      "  warnings.warn(\n",
      "c:\\Users\\gonca\\miniconda3\\Lib\\site-packages\\sklearn\\preprocessing\\_data.py:280: UserWarning: Numerical issues were encountered when scaling the data and might not be solved. The standard deviation of the data is probably very close to 0. \n",
      "  warnings.warn(\n",
      "c:\\Users\\gonca\\miniconda3\\Lib\\site-packages\\sklearn\\preprocessing\\_data.py:280: UserWarning: Numerical issues were encountered when scaling the data and might not be solved. The standard deviation of the data is probably very close to 0. \n",
      "  warnings.warn(\n",
      "c:\\Users\\gonca\\miniconda3\\Lib\\site-packages\\sklearn\\preprocessing\\_data.py:280: UserWarning: Numerical issues were encountered when scaling the data and might not be solved. The standard deviation of the data is probably very close to 0. \n",
      "  warnings.warn(\n",
      "c:\\Users\\gonca\\miniconda3\\Lib\\site-packages\\sklearn\\preprocessing\\_data.py:261: UserWarning: Numerical issues were encountered when centering the data and might not be solved. Dataset may contain too large values. You may need to prescale your features.\n",
      "  warnings.warn(\n",
      "c:\\Users\\gonca\\miniconda3\\Lib\\site-packages\\sklearn\\preprocessing\\_data.py:280: UserWarning: Numerical issues were encountered when scaling the data and might not be solved. The standard deviation of the data is probably very close to 0. \n",
      "  warnings.warn(\n",
      "c:\\Users\\gonca\\miniconda3\\Lib\\site-packages\\sklearn\\preprocessing\\_data.py:280: UserWarning: Numerical issues were encountered when scaling the data and might not be solved. The standard deviation of the data is probably very close to 0. \n",
      "  warnings.warn(\n",
      "c:\\Users\\gonca\\miniconda3\\Lib\\site-packages\\sklearn\\preprocessing\\_data.py:280: UserWarning: Numerical issues were encountered when scaling the data and might not be solved. The standard deviation of the data is probably very close to 0. \n",
      "  warnings.warn(\n",
      "c:\\Users\\gonca\\miniconda3\\Lib\\site-packages\\sklearn\\preprocessing\\_data.py:280: UserWarning: Numerical issues were encountered when scaling the data and might not be solved. The standard deviation of the data is probably very close to 0. \n",
      "  warnings.warn(\n",
      "c:\\Users\\gonca\\miniconda3\\Lib\\site-packages\\sklearn\\preprocessing\\_data.py:280: UserWarning: Numerical issues were encountered when scaling the data and might not be solved. The standard deviation of the data is probably very close to 0. \n",
      "  warnings.warn(\n",
      "c:\\Users\\gonca\\miniconda3\\Lib\\site-packages\\sklearn\\preprocessing\\_data.py:280: UserWarning: Numerical issues were encountered when scaling the data and might not be solved. The standard deviation of the data is probably very close to 0. \n",
      "  warnings.warn(\n",
      "c:\\Users\\gonca\\miniconda3\\Lib\\site-packages\\sklearn\\preprocessing\\_data.py:280: UserWarning: Numerical issues were encountered when scaling the data and might not be solved. The standard deviation of the data is probably very close to 0. \n",
      "  warnings.warn(\n",
      "c:\\Users\\gonca\\miniconda3\\Lib\\site-packages\\sklearn\\preprocessing\\_data.py:280: UserWarning: Numerical issues were encountered when scaling the data and might not be solved. The standard deviation of the data is probably very close to 0. \n",
      "  warnings.warn(\n",
      "c:\\Users\\gonca\\miniconda3\\Lib\\site-packages\\sklearn\\preprocessing\\_data.py:280: UserWarning: Numerical issues were encountered when scaling the data and might not be solved. The standard deviation of the data is probably very close to 0. \n",
      "  warnings.warn(\n",
      "c:\\Users\\gonca\\miniconda3\\Lib\\site-packages\\sklearn\\preprocessing\\_data.py:261: UserWarning: Numerical issues were encountered when centering the data and might not be solved. Dataset may contain too large values. You may need to prescale your features.\n",
      "  warnings.warn(\n",
      "c:\\Users\\gonca\\miniconda3\\Lib\\site-packages\\sklearn\\preprocessing\\_data.py:280: UserWarning: Numerical issues were encountered when scaling the data and might not be solved. The standard deviation of the data is probably very close to 0. \n",
      "  warnings.warn(\n"
     ]
    },
    {
     "name": "stdout",
     "output_type": "stream",
     "text": [
      "Proccesing cat audio files\n",
      "\tfiles in training set: 32, files in testing set: 8\n"
     ]
    },
    {
     "name": "stderr",
     "output_type": "stream",
     "text": [
      "c:\\Users\\gonca\\miniconda3\\Lib\\site-packages\\sklearn\\preprocessing\\_data.py:280: UserWarning: Numerical issues were encountered when scaling the data and might not be solved. The standard deviation of the data is probably very close to 0. \n",
      "  warnings.warn(\n",
      "c:\\Users\\gonca\\miniconda3\\Lib\\site-packages\\sklearn\\preprocessing\\_data.py:280: UserWarning: Numerical issues were encountered when scaling the data and might not be solved. The standard deviation of the data is probably very close to 0. \n",
      "  warnings.warn(\n",
      "c:\\Users\\gonca\\miniconda3\\Lib\\site-packages\\sklearn\\preprocessing\\_data.py:280: UserWarning: Numerical issues were encountered when scaling the data and might not be solved. The standard deviation of the data is probably very close to 0. \n",
      "  warnings.warn(\n"
     ]
    },
    {
     "name": "stdout",
     "output_type": "stream",
     "text": [
      "Proccesing door_wood_creaks audio files\n",
      "\tfiles in training set: 32, files in testing set: 8\n"
     ]
    },
    {
     "name": "stderr",
     "output_type": "stream",
     "text": [
      "c:\\Users\\gonca\\miniconda3\\Lib\\site-packages\\sklearn\\preprocessing\\_data.py:280: UserWarning: Numerical issues were encountered when scaling the data and might not be solved. The standard deviation of the data is probably very close to 0. \n",
      "  warnings.warn(\n"
     ]
    },
    {
     "name": "stdout",
     "output_type": "stream",
     "text": [
      "Proccesing crickets audio files\n",
      "\tfiles in training set: 32, files in testing set: 8\n"
     ]
    },
    {
     "name": "stderr",
     "output_type": "stream",
     "text": [
      "c:\\Users\\gonca\\miniconda3\\Lib\\site-packages\\sklearn\\preprocessing\\_data.py:280: UserWarning: Numerical issues were encountered when scaling the data and might not be solved. The standard deviation of the data is probably very close to 0. \n",
      "  warnings.warn(\n",
      "c:\\Users\\gonca\\miniconda3\\Lib\\site-packages\\sklearn\\preprocessing\\_data.py:280: UserWarning: Numerical issues were encountered when scaling the data and might not be solved. The standard deviation of the data is probably very close to 0. \n",
      "  warnings.warn(\n",
      "c:\\Users\\gonca\\miniconda3\\Lib\\site-packages\\sklearn\\preprocessing\\_data.py:280: UserWarning: Numerical issues were encountered when scaling the data and might not be solved. The standard deviation of the data is probably very close to 0. \n",
      "  warnings.warn(\n",
      "c:\\Users\\gonca\\miniconda3\\Lib\\site-packages\\sklearn\\preprocessing\\_data.py:280: UserWarning: Numerical issues were encountered when scaling the data and might not be solved. The standard deviation of the data is probably very close to 0. \n",
      "  warnings.warn(\n",
      "c:\\Users\\gonca\\miniconda3\\Lib\\site-packages\\sklearn\\preprocessing\\_data.py:280: UserWarning: Numerical issues were encountered when scaling the data and might not be solved. The standard deviation of the data is probably very close to 0. \n",
      "  warnings.warn(\n",
      "c:\\Users\\gonca\\miniconda3\\Lib\\site-packages\\sklearn\\preprocessing\\_data.py:280: UserWarning: Numerical issues were encountered when scaling the data and might not be solved. The standard deviation of the data is probably very close to 0. \n",
      "  warnings.warn(\n",
      "c:\\Users\\gonca\\miniconda3\\Lib\\site-packages\\sklearn\\preprocessing\\_data.py:280: UserWarning: Numerical issues were encountered when scaling the data and might not be solved. The standard deviation of the data is probably very close to 0. \n",
      "  warnings.warn(\n"
     ]
    }
   ],
   "source": [
    "for label in unique_labels:\n",
    "    print(\"Proccesing {} audio files\".format(label))\n",
    "    current_label_meta_data = meta_data[meta_data.category == label]\n",
    "    datasets = _train_test_split(current_label_meta_data.filename, train_pct=0.8)\n",
    "    for dataset_split, audio_files in datasets.items():\n",
    "        for filename in audio_files:\n",
    "            directory_path = dataset_dir + '/audio/'\n",
    "            save_melspectrogram(directory_path, filename, dataset_split, label, sampling_rate=44100)"
   ]
  }
 ],
 "metadata": {
  "kernelspec": {
   "display_name": "base",
   "language": "python",
   "name": "python3"
  },
  "language_info": {
   "codemirror_mode": {
    "name": "ipython",
    "version": 3
   },
   "file_extension": ".py",
   "mimetype": "text/x-python",
   "name": "python",
   "nbconvert_exporter": "python",
   "pygments_lexer": "ipython3",
   "version": "3.12.3"
  }
 },
 "nbformat": 4,
 "nbformat_minor": 2
}
